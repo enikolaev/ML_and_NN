{
  "nbformat": 4,
  "nbformat_minor": 0,
  "metadata": {
    "colab": {
      "provenance": [],
      "toc_visible": true,
      "authorship_tag": "ABX9TyNbLQ1hahxzI8oqzQrQ8wJi",
      "include_colab_link": true
    },
    "kernelspec": {
      "name": "python3",
      "display_name": "Python 3"
    },
    "language_info": {
      "name": "python"
    },
    "accelerator": "GPU",
    "gpuClass": "standard"
  },
  "cells": [
    {
      "cell_type": "markdown",
      "metadata": {
        "id": "view-in-github",
        "colab_type": "text"
      },
      "source": [
        "<a href=\"https://colab.research.google.com/github/enikolaev/ML_and_NN/blob/main/Practical_Work_Convolutional_Neural_Network.ipynb\" target=\"_parent\"><img src=\"https://colab.research.google.com/assets/colab-badge.svg\" alt=\"Open In Colab\"/></a>"
      ]
    },
    {
      "cell_type": "markdown",
      "source": [
        "# Сверточная нейронная сеть"
      ],
      "metadata": {
        "id": "uIzbgiTBQkhl"
      }
    },
    {
      "cell_type": "markdown",
      "source": [
        "В данной работе необходимо улучшить нейросетевой классификатор за счет применения технологий глубоких нейронных сетей. Прежде всего - это технологии свертки, Upsampling и Downsampling"
      ],
      "metadata": {
        "id": "QAA1GBfk3ws9"
      }
    },
    {
      "cell_type": "markdown",
      "source": [
        "## Подключение библиотек"
      ],
      "metadata": {
        "id": "Dn-BaofJQ3zY"
      }
    },
    {
      "cell_type": "code",
      "execution_count": 1,
      "metadata": {
        "id": "uUwVujgzQLVu"
      },
      "outputs": [],
      "source": [
        "import keras \n",
        "from keras.datasets import mnist\n",
        "from keras.utils import np_utils \n",
        "from keras.layers import Dense\n",
        "from keras.layers import Dropout\n",
        "from keras.layers import Flatten\n",
        "from keras.layers import Conv2D\n",
        "from keras.layers import AveragePooling2D\n",
        "from keras.layers import MaxPooling2D\n",
        "from keras.layers import BatchNormalization\n",
        "from keras.layers import GlobalAveragePooling2D\n",
        "from keras.models import Sequential\n",
        "from keras.constraints import max_norm\n",
        "from keras import Input\n",
        "from keras.optimizers import adam_v2\n",
        "import matplotlib.pyplot as plt\n",
        "import numpy as np"
      ]
    },
    {
      "cell_type": "code",
      "source": [
        "import tensorflow as tf\n",
        "print(\"Num GPUs Available: \", len(tf.config.list_physical_devices('GPU')))"
      ],
      "metadata": {
        "colab": {
          "base_uri": "https://localhost:8080/"
        },
        "id": "ihqijWZS4oUF",
        "outputId": "2fc64aa5-9f34-4843-9d21-474de80e4e69"
      },
      "execution_count": 7,
      "outputs": [
        {
          "output_type": "stream",
          "name": "stdout",
          "text": [
            "Num GPUs Available:  1\n"
          ]
        }
      ]
    },
    {
      "cell_type": "markdown",
      "source": [
        "## Загрузка данных"
      ],
      "metadata": {
        "id": "ylDva-oS4g2W"
      }
    },
    {
      "cell_type": "markdown",
      "source": [
        "Получим список архивов с изображениями, затем выполним загрузку архивов с исзображениями в соответствии со списком"
      ],
      "metadata": {
        "id": "aKb73hocBXBU"
      }
    },
    {
      "cell_type": "code",
      "source": [
        "!wget -qq https://raw.githubusercontent.com/enikolaev/ML_and_NN/main/data/data_sea_animals.txt\n",
        "!wget -qq -i data_sea_animals.txt"
      ],
      "metadata": {
        "id": "DwoREBT_BcO5"
      },
      "execution_count": 2,
      "outputs": []
    },
    {
      "cell_type": "markdown",
      "source": [
        "Выполним распаковку архивов в каталог `training`"
      ],
      "metadata": {
        "id": "CbLEn3-YCpvH"
      }
    },
    {
      "cell_type": "code",
      "source": [
        "!mkdir training\n",
        "!unzip -q '*.zip' -d training\n",
        "# Посмотрим какие подкаталоги \n",
        "!ls training/"
      ],
      "metadata": {
        "colab": {
          "base_uri": "https://localhost:8080/"
        },
        "id": "y-PfT2zOEdh_",
        "outputId": "f833e32a-2f12-4a4d-c6f8-d8ff42dfdab2"
      },
      "execution_count": 3,
      "outputs": [
        {
          "output_type": "stream",
          "name": "stdout",
          "text": [
            "\n",
            "5 archives were successfully processed.\n",
            "crab  goldfish\tjellyfish  seahorse  squid\n"
          ]
        }
      ]
    },
    {
      "cell_type": "markdown",
      "source": [
        "Изучим содержимое каталога"
      ],
      "metadata": {
        "id": "vD2KSK_3KgcZ"
      }
    },
    {
      "cell_type": "code",
      "source": [
        "!ls training/crab/"
      ],
      "metadata": {
        "colab": {
          "base_uri": "https://localhost:8080/"
        },
        "id": "p7KoQK0nKkbQ",
        "outputId": "325be4ae-8d95-4870-c501-c553d26204e6"
      },
      "execution_count": 4,
      "outputs": [
        {
          "output_type": "stream",
          "name": "stdout",
          "text": [
            "01c3fc5278.jpg\t1de5e32b3e.jpg\t3d7220b4ea.jpg\t57f3c20f3e.jpg\t89b1cd7401.jpg\n",
            "03a4208397.jpg\t1e2b79379b.jpg\t3dcd66a4a7.jpg\t58a0e73fa1.jpg\t8a33efacf4.jpg\n",
            "044edccd83.jpg\t1eb3673642.jpg\t3eda69a7a1.jpg\t5f04912e9e.jpg\t8a8c5babf9.jpg\n",
            "0615c19b25.jpg\t1f60096138.jpg\t3efb4f3151.jpg\t61b7dcd0ae.jpg\t8b5424d2ad.jpg\n",
            "0a37acd141.jpg\t1f6d2f18af.jpg\t48e8eb8c1e.jpg\t6bba319305.jpg\t8b62ebe6e2.jpg\n",
            "0a3d16566f.jpg\t21cfefa411.jpg\t497cc8adee.jpg\t6cddf4fea1.jpg\t8ca7742d95.jpg\n",
            "0b8367a031.jpg\t244ef898cd.jpg\t4d02dfebb4.jpg\t70a7d96611.jpg\t8f2b6ddbf7.jpg\n",
            "0c8b345dc6.jpg\t28a44015b4.jpg\t504a7a0346.jpg\t7aaa3f657b.jpg\t8fd3cea7b7.jpg\n",
            "103bfb5679.jpg\t2a017fbee0.jpg\t51cc8c3bc9.jpg\t7d712e2025.jpg\t97fe281ca4.jpg\n",
            "11c7c6b51e.jpg\t2ba8cb98d6.jpg\t55b247f3fa.jpg\t7f65b9bf02.jpg\t99bafd36a8.jpg\n",
            "15a262b4eb.jpg\t3bdf0986c4.jpg\t56a9e1e52c.jpg\t82d357358c.jpg\t9b74fbf107.jpg\n",
            "15b1fc2157.jpg\t3c63c57a72.jpg\t56ddab436a.jpg\t84c7171790.jpg\t9ced152535.jpg\n"
          ]
        }
      ]
    },
    {
      "cell_type": "markdown",
      "source": [
        "Удалим неиспользуемые файлы архивов"
      ],
      "metadata": {
        "id": "jnkSkfoYFLNf"
      }
    },
    {
      "cell_type": "code",
      "source": [
        "!rm *.zip"
      ],
      "metadata": {
        "id": "u9SQAmQx_pIO"
      },
      "execution_count": 5,
      "outputs": []
    },
    {
      "cell_type": "code",
      "source": [
        "# !rm /training/crab/*\n",
        "# !rm /training/goldfish/*"
      ],
      "metadata": {
        "id": "5Tn5yg5-JFJr"
      },
      "execution_count": null,
      "outputs": []
    },
    {
      "cell_type": "markdown",
      "source": [
        "## Подготовка обучающей выборки на основе загруженных файлов"
      ],
      "metadata": {
        "id": "b8llLY5nGRta"
      }
    },
    {
      "cell_type": "markdown",
      "source": [
        "Для подготовки обучающего набора будем использовать класс `ImageDataGenerator`, которому зададим следующие параметры:\n",
        "\n",
        "`batch_size` - размер батча\n",
        "\n",
        "`data_dir` - каталог с обучающей выборкой\n",
        "\n",
        "`validation_percent` - роцент выборки, который уйдет на валидацию\n"
      ],
      "metadata": {
        "id": "16qwT7cbL_Se"
      }
    },
    {
      "cell_type": "code",
      "source": [
        "from keras.preprocessing.image import ImageDataGenerator\n",
        "# размер батча\n",
        "batch_size=16\n",
        "# каталог с обучающей выборкой\n",
        "data_dir = \"training\"\n",
        "# Процент выборки, который уйдет на валидацию\n",
        "validation_percent = 15 / 100\n",
        "# размер для масштабирования\n",
        "pref_size = (64,64)\n",
        "\n",
        "train_datagen = ImageDataGenerator(rescale = 1./255,\n",
        "        validation_split=validation_percent,\n",
        "        # featurewise_center=True,\n",
        "        samplewise_center=True,\n",
        "        # featurewise_std_normalization=True,\n",
        "        samplewise_std_normalization=True,\n",
        "        rotation_range=45,\n",
        "        width_shift_range=0.25,\n",
        "        height_shift_range=0.25,\n",
        "        shear_range=0.25,\n",
        "        zoom_range=0.25,\n",
        "        horizontal_flip=True,\n",
        "        fill_mode='nearest')\n",
        "\n",
        "validation_datagen = ImageDataGenerator(rescale = 1./255, \n",
        "        validation_split=validation_percent)\n",
        "\n",
        "print('Статистика по обучающей выборке')\n",
        "train_generator = train_datagen.flow_from_directory(data_dir,\n",
        "    target_size=pref_size,\n",
        "    class_mode='categorical',\n",
        "    batch_size=batch_size,\n",
        "    subset = \"training\")\n",
        "print('**' * 50)\n",
        "print('Статистика по валидационной выборке')\n",
        "validation_generator = validation_datagen.flow_from_directory(data_dir,\n",
        "    target_size=pref_size,\n",
        "    class_mode='categorical',\n",
        "    batch_size=batch_size,\n",
        "    subset = \"validation\")\n",
        "\n",
        "labels = {v: k for k, v in train_generator.class_indices.items()}\n",
        "print(labels)\n",
        "number_of_classes = len(labels)"
      ],
      "metadata": {
        "colab": {
          "base_uri": "https://localhost:8080/"
        },
        "id": "m9oBt5hyKtk7",
        "outputId": "d1b8dd31-d60c-47e3-cf03-f9f80cb2941b"
      },
      "execution_count": 80,
      "outputs": [
        {
          "output_type": "stream",
          "name": "stdout",
          "text": [
            "Статистика по обучающей выборке\n",
            "Found 255 images belonging to 5 classes.\n",
            "****************************************************************************************************\n",
            "Статистика по валидационной выборке\n",
            "Found 45 images belonging to 5 classes.\n",
            "{0: 'crab', 1: 'goldfish', 2: 'jellyfish', 3: 'seahorse', 4: 'squid'}\n"
          ]
        }
      ]
    },
    {
      "cell_type": "markdown",
      "source": [
        "### Формирование структуры сети"
      ],
      "metadata": {
        "id": "DqJr0LnyQ8qj"
      }
    },
    {
      "cell_type": "markdown",
      "source": [
        "Немного поменяем структуру модели: увеличим количество слоев, изменм алгоритм инициализации весов, введем регуляризацию"
      ],
      "metadata": {
        "id": "y622iwV6oZU1"
      }
    },
    {
      "cell_type": "code",
      "source": [
        "import math\n",
        "mymodel = Sequential(name='my')\n",
        "mymodel.add(Conv2D(16, (5, 5), input_shape=(pref_size[0], pref_size[1], 3), activation='relu'))\n",
        "mymodel.add(MaxPooling2D(pool_size=(2, 2), padding='valid', strides=1))\n",
        "mymodel.add(Conv2D(16, (5, 5),activation='relu'))\n",
        "mymodel.add(MaxPooling2D(pool_size=(2, 2), padding='valid', strides=1))\n",
        "\n",
        "mymodel.add(Conv2D(128, (3, 3),activation='relu', padding='valid'))\n",
        "mymodel.add(MaxPooling2D(pool_size=(2, 2), padding='same', strides=2))\n",
        "mymodel.add(Conv2D(128, (3, 3), activation='relu', padding='same'))\n",
        "mymodel.add(MaxPooling2D(pool_size=(2, 2), strides=2, padding='same'))\n",
        "mymodel.add(Dropout(0.1))\n",
        "\n",
        "mymodel.add(Conv2D(256, (3, 3), activation='relu', padding='same'))\n",
        "mymodel.add(MaxPooling2D(pool_size=(2, 2), padding='same', strides=2))\n",
        "mymodel.add(Conv2D(256, (3, 3), activation='relu', padding='same'))\n",
        "mymodel.add(MaxPooling2D(pool_size=(2, 2), strides=2, padding='same'))\n",
        "mymodel.add(Dropout(0.1))\n",
        "\n",
        "mymodel.add(Conv2D(512, (3, 3), activation='relu', padding='same'))\n",
        "mymodel.add(MaxPooling2D(pool_size=(2, 2), padding='same', strides=2))\n",
        "mymodel.add(Conv2D(512, (3, 3), activation='relu', padding='same'))\n",
        "mymodel.add(MaxPooling2D(pool_size=(2, 2), strides=1, padding='same'))\n",
        "mymodel.add(Dropout(0.1))\n",
        "\n",
        "mymodel.add(Flatten())\n",
        "mymodel.add(Dense(1024, activation='relu'))\n",
        "mymodel.add(Dropout(0.1))\n",
        "mymodel.add(Dense(512, activation='relu'))\n",
        "mymodel.add(Dropout(0.1))\n",
        "mymodel.add(Dense(number_of_classes, activation='softmax'))\n",
        "\n",
        "mymodel.summary()"
      ],
      "metadata": {
        "id": "T0kuseBiQ9f6",
        "colab": {
          "base_uri": "https://localhost:8080/"
        },
        "outputId": "427bee2d-55b2-4cc3-efab-512d8bccf44f"
      },
      "execution_count": 82,
      "outputs": [
        {
          "output_type": "stream",
          "name": "stdout",
          "text": [
            "Model: \"my\"\n",
            "_________________________________________________________________\n",
            " Layer (type)                Output Shape              Param #   \n",
            "=================================================================\n",
            " conv2d_237 (Conv2D)         (None, 60, 60, 16)        1216      \n",
            "                                                                 \n",
            " max_pooling2d_190 (MaxPooli  (None, 59, 59, 16)       0         \n",
            " ng2D)                                                           \n",
            "                                                                 \n",
            " conv2d_238 (Conv2D)         (None, 55, 55, 16)        6416      \n",
            "                                                                 \n",
            " max_pooling2d_191 (MaxPooli  (None, 54, 54, 16)       0         \n",
            " ng2D)                                                           \n",
            "                                                                 \n",
            " conv2d_239 (Conv2D)         (None, 52, 52, 128)       18560     \n",
            "                                                                 \n",
            " max_pooling2d_192 (MaxPooli  (None, 26, 26, 128)      0         \n",
            " ng2D)                                                           \n",
            "                                                                 \n",
            " conv2d_240 (Conv2D)         (None, 26, 26, 128)       147584    \n",
            "                                                                 \n",
            " max_pooling2d_193 (MaxPooli  (None, 13, 13, 128)      0         \n",
            " ng2D)                                                           \n",
            "                                                                 \n",
            " dropout_114 (Dropout)       (None, 13, 13, 128)       0         \n",
            "                                                                 \n",
            " conv2d_241 (Conv2D)         (None, 13, 13, 256)       295168    \n",
            "                                                                 \n",
            " max_pooling2d_194 (MaxPooli  (None, 7, 7, 256)        0         \n",
            " ng2D)                                                           \n",
            "                                                                 \n",
            " conv2d_242 (Conv2D)         (None, 7, 7, 256)         590080    \n",
            "                                                                 \n",
            " max_pooling2d_195 (MaxPooli  (None, 4, 4, 256)        0         \n",
            " ng2D)                                                           \n",
            "                                                                 \n",
            " dropout_115 (Dropout)       (None, 4, 4, 256)         0         \n",
            "                                                                 \n",
            " conv2d_243 (Conv2D)         (None, 4, 4, 512)         1180160   \n",
            "                                                                 \n",
            " max_pooling2d_196 (MaxPooli  (None, 2, 2, 512)        0         \n",
            " ng2D)                                                           \n",
            "                                                                 \n",
            " conv2d_244 (Conv2D)         (None, 2, 2, 512)         2359808   \n",
            "                                                                 \n",
            " max_pooling2d_197 (MaxPooli  (None, 2, 2, 512)        0         \n",
            " ng2D)                                                           \n",
            "                                                                 \n",
            " dropout_116 (Dropout)       (None, 2, 2, 512)         0         \n",
            "                                                                 \n",
            " flatten_23 (Flatten)        (None, 2048)              0         \n",
            "                                                                 \n",
            " dense_74 (Dense)            (None, 1024)              2098176   \n",
            "                                                                 \n",
            " dropout_117 (Dropout)       (None, 1024)              0         \n",
            "                                                                 \n",
            " dense_75 (Dense)            (None, 512)               524800    \n",
            "                                                                 \n",
            " dropout_118 (Dropout)       (None, 512)               0         \n",
            "                                                                 \n",
            " dense_76 (Dense)            (None, 5)                 2565      \n",
            "                                                                 \n",
            "=================================================================\n",
            "Total params: 7,224,533\n",
            "Trainable params: 7,224,533\n",
            "Non-trainable params: 0\n",
            "_________________________________________________________________\n"
          ]
        }
      ]
    },
    {
      "cell_type": "code",
      "source": [
        "# mymodel.compile(optimizer='rmsprop', \n",
        "#               loss=keras.losses.CategoricalCrossentropy(from_logits=True), \n",
        "#               metrics=['accuracy'])\n",
        "mymodel.compile(optimizer='rmsprop', \n",
        "              loss=keras.losses.CategoricalCrossentropy(from_logits=False), \n",
        "              metrics=['accuracy'])"
      ],
      "metadata": {
        "id": "bPgC-KSTNUha"
      },
      "execution_count": 83,
      "outputs": []
    },
    {
      "cell_type": "markdown",
      "source": [
        "Возможно использовать различные оптимизаторы kers:\n",
        "\n",
        "**SGD** − Stochastic gradient descent optimizer.\n",
        "`keras.optimizers.SGD(learning_rate = 0.01, momentum = 0.0, nesterov = False)`\n",
        "\n",
        "**RMSprop** − RMSProp optimizer.\n",
        "`keras.optimizers.RMSprop(learning_rate = 0.001, rho = 0.9)`\n",
        "\n",
        "**Adagrad** − Adagrad optimizer.\n",
        "`keras.optimizers.Adagrad(learning_rate = 0.01)`\n",
        "\n",
        "**Adadelta** − Adadelta optimizer.\n",
        "`keras.optimizers.Adadelta(learning_rate = 1.0, rho = 0.95)`\n",
        "\n",
        "**Adam** − Adam optimizer.\n",
        "```\n",
        "keras.optimizers.Adam(\n",
        "   learning_rate = 0.001, beta_1 = 0.9, beta_2 = 0.999, amsgrad = False\n",
        ")\n",
        "```\n",
        "\n",
        "**Adamax** − Adamax optimizer from Adam.\n",
        "`keras.optimizers.Adamax(learning_rate = 0.002, beta_1 = 0.9, beta_2 = 0.999)`\n",
        "\n",
        "**Nadam** − Nesterov Adam optimizer.\n",
        "`keras.optimizers.Nadam(learning_rate = 0.002, beta_1 = 0.9, beta_2 = 0.999)`"
      ],
      "metadata": {
        "id": "aP8XyGeGSrbu"
      }
    },
    {
      "cell_type": "code",
      "source": [
        "mymodel.evaluate(validation_generator)"
      ],
      "metadata": {
        "colab": {
          "base_uri": "https://localhost:8080/"
        },
        "id": "52OUNuxhWHWY",
        "outputId": "885d6e09-d2dd-4c83-c8ac-45cf134516a8"
      },
      "execution_count": 84,
      "outputs": [
        {
          "output_type": "stream",
          "name": "stdout",
          "text": [
            "3/3 [==============================] - 1s 164ms/step - loss: 1.6092 - accuracy: 0.2000\n"
          ]
        },
        {
          "output_type": "execute_result",
          "data": {
            "text/plain": [
              "[1.6092216968536377, 0.20000000298023224]"
            ]
          },
          "metadata": {},
          "execution_count": 84
        }
      ]
    },
    {
      "cell_type": "code",
      "source": [
        "history = mymodel.fit(train_generator, validation_data=validation_generator, epochs=300)\n"
      ],
      "metadata": {
        "colab": {
          "base_uri": "https://localhost:8080/"
        },
        "id": "gsxwdxbGfUno",
        "outputId": "b24c96a7-0da2-4507-944f-b8d4efd5ea9d"
      },
      "execution_count": 85,
      "outputs": [
        {
          "output_type": "stream",
          "name": "stdout",
          "text": [
            "Epoch 1/300\n",
            "16/16 [==============================] - 7s 283ms/step - loss: 1.9094 - accuracy: 0.1569 - val_loss: 1.6096 - val_accuracy: 0.1778\n",
            "Epoch 2/300\n",
            "16/16 [==============================] - 3s 191ms/step - loss: 1.9765 - accuracy: 0.2157 - val_loss: 1.6099 - val_accuracy: 0.2000\n",
            "Epoch 3/300\n",
            "16/16 [==============================] - 3s 189ms/step - loss: 1.6119 - accuracy: 0.1922 - val_loss: 1.6090 - val_accuracy: 0.2889\n",
            "Epoch 4/300\n",
            "16/16 [==============================] - 4s 224ms/step - loss: 1.6066 - accuracy: 0.1882 - val_loss: 1.6074 - val_accuracy: 0.2000\n",
            "Epoch 5/300\n",
            "16/16 [==============================] - 3s 194ms/step - loss: 1.6202 - accuracy: 0.1765 - val_loss: 1.6075 - val_accuracy: 0.2444\n",
            "Epoch 6/300\n",
            "16/16 [==============================] - 3s 183ms/step - loss: 1.6174 - accuracy: 0.2314 - val_loss: 1.6095 - val_accuracy: 0.2444\n",
            "Epoch 7/300\n",
            "16/16 [==============================] - 3s 194ms/step - loss: 1.5917 - accuracy: 0.2431 - val_loss: 1.6110 - val_accuracy: 0.2000\n",
            "Epoch 8/300\n",
            "16/16 [==============================] - 4s 244ms/step - loss: 1.6552 - accuracy: 0.2941 - val_loss: 1.5955 - val_accuracy: 0.2222\n",
            "Epoch 9/300\n",
            "16/16 [==============================] - 3s 188ms/step - loss: 1.5217 - accuracy: 0.3294 - val_loss: 1.5581 - val_accuracy: 0.3556\n",
            "Epoch 10/300\n",
            "16/16 [==============================] - 3s 187ms/step - loss: 1.4997 - accuracy: 0.3569 - val_loss: 1.5910 - val_accuracy: 0.2000\n",
            "Epoch 11/300\n",
            "16/16 [==============================] - 4s 251ms/step - loss: 1.5040 - accuracy: 0.3804 - val_loss: 1.5497 - val_accuracy: 0.5333\n",
            "Epoch 12/300\n",
            "16/16 [==============================] - 3s 192ms/step - loss: 1.4616 - accuracy: 0.3333 - val_loss: 1.5786 - val_accuracy: 0.3556\n",
            "Epoch 13/300\n",
            "16/16 [==============================] - 3s 182ms/step - loss: 1.4722 - accuracy: 0.3608 - val_loss: 1.5925 - val_accuracy: 0.2000\n",
            "Epoch 14/300\n",
            "16/16 [==============================] - 3s 188ms/step - loss: 1.4984 - accuracy: 0.3529 - val_loss: 1.5541 - val_accuracy: 0.2889\n",
            "Epoch 15/300\n",
            "16/16 [==============================] - 4s 253ms/step - loss: 1.4301 - accuracy: 0.3529 - val_loss: 1.6373 - val_accuracy: 0.1556\n",
            "Epoch 16/300\n",
            "16/16 [==============================] - 3s 185ms/step - loss: 1.4322 - accuracy: 0.3647 - val_loss: 1.6309 - val_accuracy: 0.2667\n",
            "Epoch 17/300\n",
            "16/16 [==============================] - 3s 192ms/step - loss: 1.4161 - accuracy: 0.3765 - val_loss: 1.6403 - val_accuracy: 0.3333\n",
            "Epoch 18/300\n",
            "16/16 [==============================] - 3s 197ms/step - loss: 1.4184 - accuracy: 0.3922 - val_loss: 1.7290 - val_accuracy: 0.2000\n",
            "Epoch 19/300\n",
            "16/16 [==============================] - 4s 233ms/step - loss: 1.3900 - accuracy: 0.4510 - val_loss: 1.5340 - val_accuracy: 0.2444\n",
            "Epoch 20/300\n",
            "16/16 [==============================] - 3s 189ms/step - loss: 1.3349 - accuracy: 0.4667 - val_loss: 1.8380 - val_accuracy: 0.2222\n",
            "Epoch 21/300\n",
            "16/16 [==============================] - 3s 190ms/step - loss: 1.4318 - accuracy: 0.3882 - val_loss: 1.6299 - val_accuracy: 0.2889\n",
            "Epoch 22/300\n",
            "16/16 [==============================] - 4s 243ms/step - loss: 1.2461 - accuracy: 0.4784 - val_loss: 1.6132 - val_accuracy: 0.3111\n",
            "Epoch 23/300\n",
            "16/16 [==============================] - 3s 186ms/step - loss: 1.2868 - accuracy: 0.5020 - val_loss: 1.6811 - val_accuracy: 0.2889\n",
            "Epoch 24/300\n",
            "16/16 [==============================] - 3s 187ms/step - loss: 1.3393 - accuracy: 0.4941 - val_loss: 1.6291 - val_accuracy: 0.2000\n",
            "Epoch 25/300\n",
            "16/16 [==============================] - 3s 191ms/step - loss: 1.2366 - accuracy: 0.4784 - val_loss: 1.6165 - val_accuracy: 0.3333\n",
            "Epoch 26/300\n",
            "16/16 [==============================] - 4s 254ms/step - loss: 1.3470 - accuracy: 0.4627 - val_loss: 1.7128 - val_accuracy: 0.2000\n",
            "Epoch 27/300\n",
            "16/16 [==============================] - 3s 192ms/step - loss: 1.2166 - accuracy: 0.5098 - val_loss: 1.9899 - val_accuracy: 0.2444\n",
            "Epoch 28/300\n",
            "16/16 [==============================] - 3s 195ms/step - loss: 1.2684 - accuracy: 0.4667 - val_loss: 1.8754 - val_accuracy: 0.2000\n",
            "Epoch 29/300\n",
            "16/16 [==============================] - 3s 188ms/step - loss: 1.2147 - accuracy: 0.5176 - val_loss: 2.1319 - val_accuracy: 0.3111\n",
            "Epoch 30/300\n",
            "16/16 [==============================] - 4s 260ms/step - loss: 1.1295 - accuracy: 0.5255 - val_loss: 2.2055 - val_accuracy: 0.2000\n",
            "Epoch 31/300\n",
            "16/16 [==============================] - 3s 188ms/step - loss: 1.3148 - accuracy: 0.4392 - val_loss: 1.9744 - val_accuracy: 0.2889\n",
            "Epoch 32/300\n",
            "16/16 [==============================] - 3s 190ms/step - loss: 1.1949 - accuracy: 0.5020 - val_loss: 1.8506 - val_accuracy: 0.2000\n",
            "Epoch 33/300\n",
            "16/16 [==============================] - 3s 210ms/step - loss: 1.1896 - accuracy: 0.5098 - val_loss: 1.8071 - val_accuracy: 0.2000\n",
            "Epoch 34/300\n",
            "16/16 [==============================] - 3s 187ms/step - loss: 1.1929 - accuracy: 0.5020 - val_loss: 1.8330 - val_accuracy: 0.3333\n",
            "Epoch 35/300\n",
            "16/16 [==============================] - 3s 185ms/step - loss: 1.1500 - accuracy: 0.5059 - val_loss: 1.9261 - val_accuracy: 0.2889\n",
            "Epoch 36/300\n",
            "16/16 [==============================] - 3s 186ms/step - loss: 1.1864 - accuracy: 0.5294 - val_loss: 1.6508 - val_accuracy: 0.2889\n",
            "Epoch 37/300\n",
            "16/16 [==============================] - 4s 252ms/step - loss: 1.1022 - accuracy: 0.5569 - val_loss: 2.1896 - val_accuracy: 0.1778\n",
            "Epoch 38/300\n",
            "16/16 [==============================] - 3s 190ms/step - loss: 1.1319 - accuracy: 0.5294 - val_loss: 2.1243 - val_accuracy: 0.2000\n",
            "Epoch 39/300\n",
            "16/16 [==============================] - 3s 195ms/step - loss: 1.1250 - accuracy: 0.5255 - val_loss: 1.7406 - val_accuracy: 0.3111\n",
            "Epoch 40/300\n",
            "16/16 [==============================] - 3s 213ms/step - loss: 1.1682 - accuracy: 0.5333 - val_loss: 2.0459 - val_accuracy: 0.3333\n",
            "Epoch 41/300\n",
            "16/16 [==============================] - 4s 231ms/step - loss: 1.1154 - accuracy: 0.5529 - val_loss: 2.0786 - val_accuracy: 0.2444\n",
            "Epoch 42/300\n",
            "16/16 [==============================] - 3s 185ms/step - loss: 1.0954 - accuracy: 0.5529 - val_loss: 2.0298 - val_accuracy: 0.3556\n",
            "Epoch 43/300\n",
            "16/16 [==============================] - 3s 187ms/step - loss: 1.1067 - accuracy: 0.5529 - val_loss: 1.6562 - val_accuracy: 0.2222\n",
            "Epoch 44/300\n",
            "16/16 [==============================] - 4s 244ms/step - loss: 1.0972 - accuracy: 0.5529 - val_loss: 2.1844 - val_accuracy: 0.3333\n",
            "Epoch 45/300\n",
            "16/16 [==============================] - 3s 189ms/step - loss: 1.0630 - accuracy: 0.5725 - val_loss: 1.8694 - val_accuracy: 0.3111\n",
            "Epoch 46/300\n",
            "16/16 [==============================] - 3s 190ms/step - loss: 1.0054 - accuracy: 0.6000 - val_loss: 2.3829 - val_accuracy: 0.2000\n",
            "Epoch 47/300\n",
            "16/16 [==============================] - 3s 204ms/step - loss: 1.0503 - accuracy: 0.5843 - val_loss: 2.0161 - val_accuracy: 0.3111\n",
            "Epoch 48/300\n",
            "16/16 [==============================] - 4s 245ms/step - loss: 1.0061 - accuracy: 0.5647 - val_loss: 1.8072 - val_accuracy: 0.2222\n",
            "Epoch 49/300\n",
            "16/16 [==============================] - 3s 190ms/step - loss: 1.1084 - accuracy: 0.5765 - val_loss: 1.7197 - val_accuracy: 0.2444\n",
            "Epoch 50/300\n",
            "16/16 [==============================] - 3s 183ms/step - loss: 1.1784 - accuracy: 0.5882 - val_loss: 2.6968 - val_accuracy: 0.2222\n",
            "Epoch 51/300\n",
            "16/16 [==============================] - 4s 227ms/step - loss: 1.0445 - accuracy: 0.5686 - val_loss: 2.7375 - val_accuracy: 0.2444\n",
            "Epoch 52/300\n",
            "16/16 [==============================] - 3s 193ms/step - loss: 0.9359 - accuracy: 0.6078 - val_loss: 2.1276 - val_accuracy: 0.1778\n",
            "Epoch 53/300\n",
            "16/16 [==============================] - 3s 188ms/step - loss: 1.0120 - accuracy: 0.5922 - val_loss: 1.9694 - val_accuracy: 0.2222\n",
            "Epoch 54/300\n",
            "16/16 [==============================] - 3s 181ms/step - loss: 1.0208 - accuracy: 0.6157 - val_loss: 2.0754 - val_accuracy: 0.2000\n",
            "Epoch 55/300\n",
            "16/16 [==============================] - 4s 251ms/step - loss: 1.0121 - accuracy: 0.6314 - val_loss: 2.9420 - val_accuracy: 0.2000\n",
            "Epoch 56/300\n",
            "16/16 [==============================] - 3s 187ms/step - loss: 0.9975 - accuracy: 0.6392 - val_loss: 1.7088 - val_accuracy: 0.3333\n",
            "Epoch 57/300\n",
            "16/16 [==============================] - 3s 191ms/step - loss: 1.0565 - accuracy: 0.6235 - val_loss: 2.2868 - val_accuracy: 0.3333\n",
            "Epoch 58/300\n",
            "16/16 [==============================] - 3s 192ms/step - loss: 1.0455 - accuracy: 0.5843 - val_loss: 1.8605 - val_accuracy: 0.2444\n",
            "Epoch 59/300\n",
            "16/16 [==============================] - 4s 273ms/step - loss: 1.0486 - accuracy: 0.5686 - val_loss: 2.2491 - val_accuracy: 0.2444\n",
            "Epoch 60/300\n",
            "16/16 [==============================] - 3s 179ms/step - loss: 0.9342 - accuracy: 0.6314 - val_loss: 3.3161 - val_accuracy: 0.2889\n",
            "Epoch 61/300\n",
            "16/16 [==============================] - 3s 190ms/step - loss: 0.9891 - accuracy: 0.5765 - val_loss: 2.7132 - val_accuracy: 0.2000\n",
            "Epoch 62/300\n",
            "16/16 [==============================] - 3s 208ms/step - loss: 0.9383 - accuracy: 0.6471 - val_loss: 2.5249 - val_accuracy: 0.2667\n",
            "Epoch 63/300\n",
            "16/16 [==============================] - 3s 185ms/step - loss: 0.9949 - accuracy: 0.6275 - val_loss: 2.1580 - val_accuracy: 0.2000\n",
            "Epoch 64/300\n",
            "16/16 [==============================] - 3s 192ms/step - loss: 1.1602 - accuracy: 0.5647 - val_loss: 2.1520 - val_accuracy: 0.2667\n",
            "Epoch 65/300\n",
            "16/16 [==============================] - 3s 186ms/step - loss: 0.9095 - accuracy: 0.6706 - val_loss: 2.2214 - val_accuracy: 0.2889\n",
            "Epoch 66/300\n",
            "16/16 [==============================] - 4s 244ms/step - loss: 0.9520 - accuracy: 0.6235 - val_loss: 2.1958 - val_accuracy: 0.2222\n",
            "Epoch 67/300\n",
            "16/16 [==============================] - 3s 192ms/step - loss: 1.0565 - accuracy: 0.5961 - val_loss: 2.1093 - val_accuracy: 0.2444\n",
            "Epoch 68/300\n",
            "16/16 [==============================] - 3s 192ms/step - loss: 0.8923 - accuracy: 0.6627 - val_loss: 2.2950 - val_accuracy: 0.2222\n",
            "Epoch 69/300\n",
            "16/16 [==============================] - 3s 213ms/step - loss: 0.9617 - accuracy: 0.6196 - val_loss: 2.5838 - val_accuracy: 0.2444\n",
            "Epoch 70/300\n",
            "16/16 [==============================] - 4s 225ms/step - loss: 1.0460 - accuracy: 0.6275 - val_loss: 1.9124 - val_accuracy: 0.2000\n",
            "Epoch 71/300\n",
            "16/16 [==============================] - 3s 186ms/step - loss: 0.9011 - accuracy: 0.6667 - val_loss: 2.6423 - val_accuracy: 0.2000\n",
            "Epoch 72/300\n",
            "16/16 [==============================] - 3s 183ms/step - loss: 0.9043 - accuracy: 0.6627 - val_loss: 2.4635 - val_accuracy: 0.2222\n",
            "Epoch 73/300\n",
            "16/16 [==============================] - 5s 290ms/step - loss: 0.9482 - accuracy: 0.6863 - val_loss: 2.1567 - val_accuracy: 0.3333\n",
            "Epoch 74/300\n",
            "16/16 [==============================] - 3s 184ms/step - loss: 0.9025 - accuracy: 0.6667 - val_loss: 2.4467 - val_accuracy: 0.3111\n",
            "Epoch 75/300\n",
            "16/16 [==============================] - 3s 193ms/step - loss: 0.8692 - accuracy: 0.6314 - val_loss: 2.8380 - val_accuracy: 0.2444\n",
            "Epoch 76/300\n",
            "16/16 [==============================] - 3s 192ms/step - loss: 0.9842 - accuracy: 0.6353 - val_loss: 2.8390 - val_accuracy: 0.2889\n",
            "Epoch 77/300\n",
            "16/16 [==============================] - 4s 250ms/step - loss: 0.8294 - accuracy: 0.6431 - val_loss: 2.6250 - val_accuracy: 0.3556\n",
            "Epoch 78/300\n",
            "16/16 [==============================] - 3s 186ms/step - loss: 0.8397 - accuracy: 0.6902 - val_loss: 1.8685 - val_accuracy: 0.3111\n",
            "Epoch 79/300\n",
            "16/16 [==============================] - 3s 197ms/step - loss: 0.8911 - accuracy: 0.6667 - val_loss: 2.0278 - val_accuracy: 0.2667\n",
            "Epoch 80/300\n",
            "16/16 [==============================] - 4s 260ms/step - loss: 0.7915 - accuracy: 0.6941 - val_loss: 1.8987 - val_accuracy: 0.3111\n",
            "Epoch 81/300\n",
            "16/16 [==============================] - 3s 189ms/step - loss: 0.9553 - accuracy: 0.6431 - val_loss: 3.4557 - val_accuracy: 0.2222\n",
            "Epoch 82/300\n",
            "16/16 [==============================] - 3s 190ms/step - loss: 0.7791 - accuracy: 0.7216 - val_loss: 3.1219 - val_accuracy: 0.1778\n",
            "Epoch 83/300\n",
            "16/16 [==============================] - 3s 197ms/step - loss: 0.9226 - accuracy: 0.6431 - val_loss: 2.3635 - val_accuracy: 0.2444\n",
            "Epoch 84/300\n",
            "16/16 [==============================] - 5s 258ms/step - loss: 0.9105 - accuracy: 0.6745 - val_loss: 2.6277 - val_accuracy: 0.2444\n",
            "Epoch 85/300\n",
            "16/16 [==============================] - 6s 384ms/step - loss: 0.7853 - accuracy: 0.6941 - val_loss: 1.8952 - val_accuracy: 0.2889\n",
            "Epoch 86/300\n",
            "16/16 [==============================] - 6s 392ms/step - loss: 0.9300 - accuracy: 0.6667 - val_loss: 2.4668 - val_accuracy: 0.3556\n",
            "Epoch 87/300\n",
            "16/16 [==============================] - 3s 195ms/step - loss: 0.8273 - accuracy: 0.7294 - val_loss: 2.5806 - val_accuracy: 0.3556\n",
            "Epoch 88/300\n",
            "16/16 [==============================] - 4s 241ms/step - loss: 1.1085 - accuracy: 0.6824 - val_loss: 2.2855 - val_accuracy: 0.2889\n",
            "Epoch 89/300\n",
            "16/16 [==============================] - 5s 307ms/step - loss: 0.8281 - accuracy: 0.6980 - val_loss: 2.0260 - val_accuracy: 0.2889\n",
            "Epoch 90/300\n",
            "16/16 [==============================] - 3s 187ms/step - loss: 0.7040 - accuracy: 0.7294 - val_loss: 2.1699 - val_accuracy: 0.2889\n",
            "Epoch 91/300\n",
            "16/16 [==============================] - 3s 188ms/step - loss: 0.8277 - accuracy: 0.7059 - val_loss: 2.3753 - val_accuracy: 0.2000\n",
            "Epoch 92/300\n",
            "16/16 [==============================] - 3s 198ms/step - loss: 0.7671 - accuracy: 0.7373 - val_loss: 2.2184 - val_accuracy: 0.3111\n",
            "Epoch 93/300\n",
            "16/16 [==============================] - 4s 236ms/step - loss: 0.7914 - accuracy: 0.7216 - val_loss: 2.6519 - val_accuracy: 0.2667\n",
            "Epoch 94/300\n",
            "16/16 [==============================] - 3s 175ms/step - loss: 0.7257 - accuracy: 0.7529 - val_loss: 2.1777 - val_accuracy: 0.3556\n",
            "Epoch 95/300\n",
            "16/16 [==============================] - 3s 183ms/step - loss: 0.8444 - accuracy: 0.7020 - val_loss: 2.2983 - val_accuracy: 0.2667\n",
            "Epoch 96/300\n",
            "16/16 [==============================] - 4s 281ms/step - loss: 0.9639 - accuracy: 0.6980 - val_loss: 2.1038 - val_accuracy: 0.2667\n",
            "Epoch 97/300\n",
            "16/16 [==============================] - 3s 197ms/step - loss: 0.7744 - accuracy: 0.7020 - val_loss: 2.1682 - val_accuracy: 0.3778\n",
            "Epoch 98/300\n",
            "16/16 [==============================] - 3s 194ms/step - loss: 0.8125 - accuracy: 0.7451 - val_loss: 2.2696 - val_accuracy: 0.3556\n",
            "Epoch 99/300\n",
            "16/16 [==============================] - 3s 190ms/step - loss: 0.7705 - accuracy: 0.7176 - val_loss: 2.4626 - val_accuracy: 0.3556\n",
            "Epoch 100/300\n",
            "16/16 [==============================] - 4s 251ms/step - loss: 1.0919 - accuracy: 0.6667 - val_loss: 2.0575 - val_accuracy: 0.4444\n",
            "Epoch 101/300\n",
            "16/16 [==============================] - 3s 183ms/step - loss: 0.7935 - accuracy: 0.7176 - val_loss: 2.3154 - val_accuracy: 0.3333\n",
            "Epoch 102/300\n",
            "16/16 [==============================] - 3s 186ms/step - loss: 0.7802 - accuracy: 0.7216 - val_loss: 2.0231 - val_accuracy: 0.3778\n",
            "Epoch 103/300\n",
            "16/16 [==============================] - 3s 190ms/step - loss: 0.7302 - accuracy: 0.7333 - val_loss: 2.5683 - val_accuracy: 0.3333\n",
            "Epoch 104/300\n",
            "16/16 [==============================] - 5s 353ms/step - loss: 0.9251 - accuracy: 0.7255 - val_loss: 2.3243 - val_accuracy: 0.3333\n",
            "Epoch 105/300\n",
            "16/16 [==============================] - 3s 185ms/step - loss: 0.7086 - accuracy: 0.7608 - val_loss: 2.4528 - val_accuracy: 0.2889\n",
            "Epoch 106/300\n",
            "16/16 [==============================] - 3s 188ms/step - loss: 0.8433 - accuracy: 0.7333 - val_loss: 2.3403 - val_accuracy: 0.2000\n",
            "Epoch 107/300\n",
            "16/16 [==============================] - 4s 261ms/step - loss: 0.6694 - accuracy: 0.7490 - val_loss: 2.0736 - val_accuracy: 0.2889\n",
            "Epoch 108/300\n",
            "16/16 [==============================] - 3s 188ms/step - loss: 0.9305 - accuracy: 0.6745 - val_loss: 2.0236 - val_accuracy: 0.3333\n",
            "Epoch 109/300\n",
            "16/16 [==============================] - 3s 193ms/step - loss: 0.5877 - accuracy: 0.7765 - val_loss: 2.6825 - val_accuracy: 0.2000\n",
            "Epoch 110/300\n",
            "16/16 [==============================] - 3s 184ms/step - loss: 0.8242 - accuracy: 0.7412 - val_loss: 2.1981 - val_accuracy: 0.2889\n",
            "Epoch 111/300\n",
            "16/16 [==============================] - 4s 248ms/step - loss: 0.6556 - accuracy: 0.7765 - val_loss: 1.8382 - val_accuracy: 0.2222\n",
            "Epoch 112/300\n",
            "16/16 [==============================] - 3s 190ms/step - loss: 0.6875 - accuracy: 0.7843 - val_loss: 2.1801 - val_accuracy: 0.2222\n",
            "Epoch 113/300\n",
            "16/16 [==============================] - 3s 185ms/step - loss: 0.8455 - accuracy: 0.7333 - val_loss: 2.2376 - val_accuracy: 0.1778\n",
            "Epoch 114/300\n",
            "16/16 [==============================] - 3s 182ms/step - loss: 0.7711 - accuracy: 0.7608 - val_loss: 2.1822 - val_accuracy: 0.2444\n",
            "Epoch 115/300\n",
            "16/16 [==============================] - 4s 259ms/step - loss: 0.9470 - accuracy: 0.7569 - val_loss: 2.5233 - val_accuracy: 0.2667\n",
            "Epoch 116/300\n",
            "16/16 [==============================] - 3s 176ms/step - loss: 0.6634 - accuracy: 0.7725 - val_loss: 2.5774 - val_accuracy: 0.3333\n",
            "Epoch 117/300\n",
            "16/16 [==============================] - 3s 190ms/step - loss: 0.8523 - accuracy: 0.7451 - val_loss: 2.8872 - val_accuracy: 0.2889\n",
            "Epoch 118/300\n",
            "16/16 [==============================] - 4s 248ms/step - loss: 0.6747 - accuracy: 0.7686 - val_loss: 2.6459 - val_accuracy: 0.2222\n",
            "Epoch 119/300\n",
            "16/16 [==============================] - 3s 189ms/step - loss: 0.9167 - accuracy: 0.7020 - val_loss: 3.0070 - val_accuracy: 0.2000\n",
            "Epoch 120/300\n",
            "16/16 [==============================] - 3s 185ms/step - loss: 0.7595 - accuracy: 0.7686 - val_loss: 2.4494 - val_accuracy: 0.2222\n",
            "Epoch 121/300\n",
            "16/16 [==============================] - 3s 191ms/step - loss: 0.7507 - accuracy: 0.7333 - val_loss: 3.0854 - val_accuracy: 0.1778\n",
            "Epoch 122/300\n",
            "16/16 [==============================] - 4s 257ms/step - loss: 0.7512 - accuracy: 0.7686 - val_loss: 2.7391 - val_accuracy: 0.3333\n",
            "Epoch 123/300\n",
            "16/16 [==============================] - 3s 184ms/step - loss: 0.6467 - accuracy: 0.7412 - val_loss: 3.1704 - val_accuracy: 0.2000\n",
            "Epoch 124/300\n",
            "16/16 [==============================] - 3s 187ms/step - loss: 1.3058 - accuracy: 0.7451 - val_loss: 2.5882 - val_accuracy: 0.3333\n",
            "Epoch 125/300\n",
            "16/16 [==============================] - 3s 191ms/step - loss: 0.6127 - accuracy: 0.7922 - val_loss: 2.5333 - val_accuracy: 0.3778\n",
            "Epoch 126/300\n",
            "16/16 [==============================] - 4s 254ms/step - loss: 0.6841 - accuracy: 0.7569 - val_loss: 3.0108 - val_accuracy: 0.1778\n",
            "Epoch 127/300\n",
            "16/16 [==============================] - 3s 186ms/step - loss: 0.8035 - accuracy: 0.7569 - val_loss: 3.9096 - val_accuracy: 0.2000\n",
            "Epoch 128/300\n",
            "16/16 [==============================] - 3s 184ms/step - loss: 0.7244 - accuracy: 0.8039 - val_loss: 3.4047 - val_accuracy: 0.2000\n",
            "Epoch 129/300\n",
            "16/16 [==============================] - 3s 205ms/step - loss: 0.6102 - accuracy: 0.7961 - val_loss: 2.9894 - val_accuracy: 0.3333\n",
            "Epoch 130/300\n",
            "16/16 [==============================] - 3s 187ms/step - loss: 0.6490 - accuracy: 0.7922 - val_loss: 3.3917 - val_accuracy: 0.2444\n",
            "Epoch 131/300\n",
            "16/16 [==============================] - 3s 185ms/step - loss: 0.7199 - accuracy: 0.7412 - val_loss: 2.6370 - val_accuracy: 0.2889\n",
            "Epoch 132/300\n",
            "16/16 [==============================] - 3s 183ms/step - loss: 0.6253 - accuracy: 0.7804 - val_loss: 3.8653 - val_accuracy: 0.2000\n",
            "Epoch 133/300\n",
            "16/16 [==============================] - 4s 250ms/step - loss: 0.6479 - accuracy: 0.7686 - val_loss: 2.8293 - val_accuracy: 0.2444\n",
            "Epoch 134/300\n",
            "16/16 [==============================] - 3s 192ms/step - loss: 0.6522 - accuracy: 0.7804 - val_loss: 2.4128 - val_accuracy: 0.2222\n",
            "Epoch 135/300\n",
            "16/16 [==============================] - 3s 193ms/step - loss: 0.8083 - accuracy: 0.7529 - val_loss: 2.2443 - val_accuracy: 0.2444\n",
            "Epoch 136/300\n",
            "16/16 [==============================] - 5s 332ms/step - loss: 0.6078 - accuracy: 0.7647 - val_loss: 4.2583 - val_accuracy: 0.2000\n",
            "Epoch 137/300\n",
            "16/16 [==============================] - 3s 188ms/step - loss: 0.5833 - accuracy: 0.8118 - val_loss: 2.9838 - val_accuracy: 0.2222\n",
            "Epoch 138/300\n",
            "16/16 [==============================] - 3s 209ms/step - loss: 0.7173 - accuracy: 0.7922 - val_loss: 2.0760 - val_accuracy: 0.2444\n",
            "Epoch 139/300\n",
            "16/16 [==============================] - 3s 185ms/step - loss: 0.5327 - accuracy: 0.8039 - val_loss: 2.4412 - val_accuracy: 0.2000\n",
            "Epoch 140/300\n",
            "16/16 [==============================] - 4s 256ms/step - loss: 0.8077 - accuracy: 0.7569 - val_loss: 3.9684 - val_accuracy: 0.2000\n",
            "Epoch 141/300\n",
            "16/16 [==============================] - 3s 190ms/step - loss: 0.6437 - accuracy: 0.7804 - val_loss: 2.8253 - val_accuracy: 0.2667\n",
            "Epoch 142/300\n",
            "16/16 [==============================] - 3s 187ms/step - loss: 0.7207 - accuracy: 0.7804 - val_loss: 1.8532 - val_accuracy: 0.2667\n",
            "Epoch 143/300\n",
            "16/16 [==============================] - 3s 201ms/step - loss: 0.6199 - accuracy: 0.7843 - val_loss: 2.7176 - val_accuracy: 0.2222\n",
            "Epoch 144/300\n",
            "16/16 [==============================] - 4s 222ms/step - loss: 0.6219 - accuracy: 0.8039 - val_loss: 3.3166 - val_accuracy: 0.2000\n",
            "Epoch 145/300\n",
            "16/16 [==============================] - 3s 190ms/step - loss: 0.6588 - accuracy: 0.7608 - val_loss: 3.8352 - val_accuracy: 0.1778\n",
            "Epoch 146/300\n",
            "16/16 [==============================] - 3s 188ms/step - loss: 0.7637 - accuracy: 0.7765 - val_loss: 2.8977 - val_accuracy: 0.2222\n",
            "Epoch 147/300\n",
            "16/16 [==============================] - 4s 280ms/step - loss: 0.7899 - accuracy: 0.7804 - val_loss: 3.1574 - val_accuracy: 0.2000\n",
            "Epoch 148/300\n",
            "16/16 [==============================] - 3s 188ms/step - loss: 0.6622 - accuracy: 0.7804 - val_loss: 2.8267 - val_accuracy: 0.2222\n",
            "Epoch 149/300\n",
            "16/16 [==============================] - 3s 190ms/step - loss: 0.5404 - accuracy: 0.7765 - val_loss: 5.2856 - val_accuracy: 0.1778\n",
            "Epoch 150/300\n",
            "16/16 [==============================] - 3s 191ms/step - loss: 0.7135 - accuracy: 0.7804 - val_loss: 3.1431 - val_accuracy: 0.1556\n",
            "Epoch 151/300\n",
            "16/16 [==============================] - 4s 253ms/step - loss: 0.6248 - accuracy: 0.7882 - val_loss: 4.4743 - val_accuracy: 0.1778\n",
            "Epoch 152/300\n",
            "16/16 [==============================] - 3s 192ms/step - loss: 0.8069 - accuracy: 0.7608 - val_loss: 3.0214 - val_accuracy: 0.2222\n",
            "Epoch 153/300\n",
            "16/16 [==============================] - 3s 198ms/step - loss: 0.4797 - accuracy: 0.7922 - val_loss: 4.0182 - val_accuracy: 0.1556\n",
            "Epoch 154/300\n",
            "16/16 [==============================] - 3s 211ms/step - loss: 0.6673 - accuracy: 0.7765 - val_loss: 5.6903 - val_accuracy: 0.1778\n",
            "Epoch 155/300\n",
            "16/16 [==============================] - 4s 209ms/step - loss: 0.6812 - accuracy: 0.8196 - val_loss: 4.6933 - val_accuracy: 0.2000\n",
            "Epoch 156/300\n",
            "16/16 [==============================] - 3s 185ms/step - loss: 0.6407 - accuracy: 0.7765 - val_loss: 3.7420 - val_accuracy: 0.1778\n",
            "Epoch 157/300\n",
            "16/16 [==============================] - 3s 199ms/step - loss: 0.6619 - accuracy: 0.8118 - val_loss: 4.0283 - val_accuracy: 0.1333\n",
            "Epoch 158/300\n",
            "16/16 [==============================] - 4s 232ms/step - loss: 0.6673 - accuracy: 0.7882 - val_loss: 5.5943 - val_accuracy: 0.1111\n",
            "Epoch 159/300\n",
            "16/16 [==============================] - 3s 192ms/step - loss: 0.5493 - accuracy: 0.8196 - val_loss: 4.9624 - val_accuracy: 0.1778\n",
            "Epoch 160/300\n",
            "16/16 [==============================] - 3s 211ms/step - loss: 0.6804 - accuracy: 0.8039 - val_loss: 3.3582 - val_accuracy: 0.2444\n",
            "Epoch 161/300\n",
            "16/16 [==============================] - 4s 247ms/step - loss: 0.5543 - accuracy: 0.8314 - val_loss: 3.9381 - val_accuracy: 0.2222\n",
            "Epoch 162/300\n",
            "16/16 [==============================] - 3s 192ms/step - loss: 0.5753 - accuracy: 0.8314 - val_loss: 4.7716 - val_accuracy: 0.2444\n",
            "Epoch 163/300\n",
            "16/16 [==============================] - 3s 194ms/step - loss: 0.5878 - accuracy: 0.8235 - val_loss: 3.5104 - val_accuracy: 0.2667\n",
            "Epoch 164/300\n",
            "16/16 [==============================] - 3s 194ms/step - loss: 0.5551 - accuracy: 0.8392 - val_loss: 2.9693 - val_accuracy: 0.2444\n",
            "Epoch 165/300\n",
            "16/16 [==============================] - 4s 254ms/step - loss: 0.7098 - accuracy: 0.7686 - val_loss: 2.6208 - val_accuracy: 0.2444\n",
            "Epoch 166/300\n",
            "16/16 [==============================] - 3s 185ms/step - loss: 0.6305 - accuracy: 0.7686 - val_loss: 3.3579 - val_accuracy: 0.1778\n",
            "Epoch 167/300\n",
            "16/16 [==============================] - 3s 196ms/step - loss: 0.4900 - accuracy: 0.8353 - val_loss: 5.6007 - val_accuracy: 0.2000\n",
            "Epoch 168/300\n",
            "16/16 [==============================] - 3s 190ms/step - loss: 0.8250 - accuracy: 0.7843 - val_loss: 6.2482 - val_accuracy: 0.1778\n",
            "Epoch 169/300\n",
            "16/16 [==============================] - 4s 250ms/step - loss: 0.6137 - accuracy: 0.8000 - val_loss: 6.3526 - val_accuracy: 0.1778\n",
            "Epoch 170/300\n",
            "16/16 [==============================] - 3s 192ms/step - loss: 0.5694 - accuracy: 0.8078 - val_loss: 4.2267 - val_accuracy: 0.2000\n",
            "Epoch 171/300\n",
            "16/16 [==============================] - 3s 188ms/step - loss: 0.5886 - accuracy: 0.7843 - val_loss: 3.6701 - val_accuracy: 0.2000\n",
            "Epoch 172/300\n",
            "16/16 [==============================] - 4s 245ms/step - loss: 0.5521 - accuracy: 0.8235 - val_loss: 2.6704 - val_accuracy: 0.3111\n",
            "Epoch 173/300\n",
            "16/16 [==============================] - 3s 184ms/step - loss: 0.6463 - accuracy: 0.8118 - val_loss: 4.7058 - val_accuracy: 0.2000\n",
            "Epoch 174/300\n",
            "16/16 [==============================] - 3s 192ms/step - loss: 0.5459 - accuracy: 0.8157 - val_loss: 6.9342 - val_accuracy: 0.2000\n",
            "Epoch 175/300\n",
            "16/16 [==============================] - 3s 183ms/step - loss: 0.7560 - accuracy: 0.7804 - val_loss: 3.2600 - val_accuracy: 0.2222\n",
            "Epoch 176/300\n",
            "16/16 [==============================] - 4s 257ms/step - loss: 0.7033 - accuracy: 0.7804 - val_loss: 3.8310 - val_accuracy: 0.2000\n",
            "Epoch 177/300\n",
            "16/16 [==============================] - 3s 189ms/step - loss: 0.6571 - accuracy: 0.8157 - val_loss: 4.2197 - val_accuracy: 0.2444\n",
            "Epoch 178/300\n",
            "16/16 [==============================] - 3s 187ms/step - loss: 0.4083 - accuracy: 0.8706 - val_loss: 3.1264 - val_accuracy: 0.2444\n",
            "Epoch 179/300\n",
            "16/16 [==============================] - 3s 184ms/step - loss: 1.1214 - accuracy: 0.7843 - val_loss: 4.3729 - val_accuracy: 0.1778\n",
            "Epoch 180/300\n",
            "16/16 [==============================] - 4s 257ms/step - loss: 0.4893 - accuracy: 0.8431 - val_loss: 3.9624 - val_accuracy: 0.2222\n",
            "Epoch 181/300\n",
            "16/16 [==============================] - 3s 196ms/step - loss: 0.4310 - accuracy: 0.8588 - val_loss: 7.2225 - val_accuracy: 0.2000\n",
            "Epoch 182/300\n",
            "16/16 [==============================] - 3s 192ms/step - loss: 0.7791 - accuracy: 0.8039 - val_loss: 3.1910 - val_accuracy: 0.2222\n",
            "Epoch 183/300\n",
            "16/16 [==============================] - 3s 197ms/step - loss: 0.5500 - accuracy: 0.8235 - val_loss: 3.1229 - val_accuracy: 0.2889\n",
            "Epoch 184/300\n",
            "16/16 [==============================] - 4s 242ms/step - loss: 0.6391 - accuracy: 0.8392 - val_loss: 5.8962 - val_accuracy: 0.2000\n",
            "Epoch 185/300\n",
            "16/16 [==============================] - 3s 190ms/step - loss: 0.4410 - accuracy: 0.8235 - val_loss: 4.4615 - val_accuracy: 0.2444\n",
            "Epoch 186/300\n",
            "16/16 [==============================] - 3s 194ms/step - loss: 0.4405 - accuracy: 0.8549 - val_loss: 3.7326 - val_accuracy: 0.1778\n",
            "Epoch 187/300\n",
            "16/16 [==============================] - 4s 240ms/step - loss: 0.7936 - accuracy: 0.7765 - val_loss: 2.5447 - val_accuracy: 0.2667\n",
            "Epoch 188/300\n",
            "16/16 [==============================] - 3s 188ms/step - loss: 0.9131 - accuracy: 0.7647 - val_loss: 4.2102 - val_accuracy: 0.2000\n",
            "Epoch 189/300\n",
            "16/16 [==============================] - 3s 195ms/step - loss: 0.4844 - accuracy: 0.8588 - val_loss: 3.4895 - val_accuracy: 0.2222\n",
            "Epoch 190/300\n",
            "16/16 [==============================] - 3s 196ms/step - loss: 0.6420 - accuracy: 0.8275 - val_loss: 3.7911 - val_accuracy: 0.2222\n",
            "Epoch 191/300\n",
            "16/16 [==============================] - 3s 188ms/step - loss: 0.6276 - accuracy: 0.8000 - val_loss: 5.2995 - val_accuracy: 0.2000\n",
            "Epoch 192/300\n",
            "16/16 [==============================] - 3s 190ms/step - loss: 0.5156 - accuracy: 0.8392 - val_loss: 5.3422 - val_accuracy: 0.2000\n",
            "Epoch 193/300\n",
            "16/16 [==============================] - 3s 188ms/step - loss: 0.8340 - accuracy: 0.8235 - val_loss: 2.5652 - val_accuracy: 0.1556\n",
            "Epoch 194/300\n",
            "16/16 [==============================] - 4s 234ms/step - loss: 0.5435 - accuracy: 0.8235 - val_loss: 3.6213 - val_accuracy: 0.1778\n",
            "Epoch 195/300\n",
            "16/16 [==============================] - 3s 185ms/step - loss: 0.4503 - accuracy: 0.8431 - val_loss: 3.9193 - val_accuracy: 0.2000\n",
            "Epoch 196/300\n",
            "16/16 [==============================] - 3s 190ms/step - loss: 0.8227 - accuracy: 0.8392 - val_loss: 4.0249 - val_accuracy: 0.2000\n",
            "Epoch 197/300\n",
            "16/16 [==============================] - 4s 261ms/step - loss: 0.4189 - accuracy: 0.8471 - val_loss: 5.8804 - val_accuracy: 0.2000\n",
            "Epoch 198/300\n",
            "16/16 [==============================] - 3s 199ms/step - loss: 0.6686 - accuracy: 0.7882 - val_loss: 2.3754 - val_accuracy: 0.2000\n",
            "Epoch 199/300\n",
            "16/16 [==============================] - 3s 195ms/step - loss: 0.5992 - accuracy: 0.7843 - val_loss: 4.8986 - val_accuracy: 0.2222\n",
            "Epoch 200/300\n",
            "16/16 [==============================] - 3s 193ms/step - loss: 0.5105 - accuracy: 0.8275 - val_loss: 8.1074 - val_accuracy: 0.2000\n",
            "Epoch 201/300\n",
            "16/16 [==============================] - 4s 254ms/step - loss: 0.7845 - accuracy: 0.7804 - val_loss: 3.6948 - val_accuracy: 0.2000\n",
            "Epoch 202/300\n",
            "16/16 [==============================] - 3s 187ms/step - loss: 0.5488 - accuracy: 0.8588 - val_loss: 4.1360 - val_accuracy: 0.2000\n",
            "Epoch 203/300\n",
            "16/16 [==============================] - 3s 204ms/step - loss: 0.5144 - accuracy: 0.8431 - val_loss: 12.7084 - val_accuracy: 0.2000\n",
            "Epoch 204/300\n",
            "16/16 [==============================] - 3s 195ms/step - loss: 0.4595 - accuracy: 0.8863 - val_loss: 4.2910 - val_accuracy: 0.2000\n",
            "Epoch 205/300\n",
            "16/16 [==============================] - 4s 247ms/step - loss: 0.6338 - accuracy: 0.8196 - val_loss: 5.4533 - val_accuracy: 0.2000\n",
            "Epoch 206/300\n",
            "16/16 [==============================] - 3s 189ms/step - loss: 0.7307 - accuracy: 0.8157 - val_loss: 6.1420 - val_accuracy: 0.2000\n",
            "Epoch 207/300\n",
            "16/16 [==============================] - 3s 197ms/step - loss: 0.5969 - accuracy: 0.8431 - val_loss: 6.6799 - val_accuracy: 0.1778\n",
            "Epoch 208/300\n",
            "16/16 [==============================] - 4s 234ms/step - loss: 0.7083 - accuracy: 0.8039 - val_loss: 4.0967 - val_accuracy: 0.2222\n",
            "Epoch 209/300\n",
            "16/16 [==============================] - 3s 214ms/step - loss: 0.4366 - accuracy: 0.8510 - val_loss: 6.8051 - val_accuracy: 0.2667\n",
            "Epoch 210/300\n",
            "16/16 [==============================] - 3s 193ms/step - loss: 0.9171 - accuracy: 0.7686 - val_loss: 3.8551 - val_accuracy: 0.2444\n",
            "Epoch 211/300\n",
            "16/16 [==============================] - 3s 196ms/step - loss: 0.6370 - accuracy: 0.8118 - val_loss: 4.7650 - val_accuracy: 0.2667\n",
            "Epoch 212/300\n",
            "16/16 [==============================] - 4s 255ms/step - loss: 0.5384 - accuracy: 0.8863 - val_loss: 4.5291 - val_accuracy: 0.2444\n",
            "Epoch 213/300\n",
            "16/16 [==============================] - 3s 189ms/step - loss: 0.3690 - accuracy: 0.8392 - val_loss: 5.1938 - val_accuracy: 0.2222\n",
            "Epoch 214/300\n",
            "16/16 [==============================] - 3s 195ms/step - loss: 0.7100 - accuracy: 0.7882 - val_loss: 3.0686 - val_accuracy: 0.2222\n",
            "Epoch 215/300\n",
            "16/16 [==============================] - 4s 256ms/step - loss: 0.7898 - accuracy: 0.8275 - val_loss: 2.8512 - val_accuracy: 0.2889\n",
            "Epoch 216/300\n",
            "16/16 [==============================] - 3s 192ms/step - loss: 0.5429 - accuracy: 0.8275 - val_loss: 4.4940 - val_accuracy: 0.2222\n",
            "Epoch 217/300\n",
            "16/16 [==============================] - 3s 186ms/step - loss: 0.5205 - accuracy: 0.8275 - val_loss: 9.5015 - val_accuracy: 0.2000\n",
            "Epoch 218/300\n",
            "16/16 [==============================] - 3s 204ms/step - loss: 0.8034 - accuracy: 0.8039 - val_loss: 10.3685 - val_accuracy: 0.2000\n",
            "Epoch 219/300\n",
            "16/16 [==============================] - 4s 231ms/step - loss: 0.6101 - accuracy: 0.8235 - val_loss: 4.5081 - val_accuracy: 0.2000\n",
            "Epoch 220/300\n",
            "16/16 [==============================] - 3s 192ms/step - loss: 0.5060 - accuracy: 0.8549 - val_loss: 3.5132 - val_accuracy: 0.2000\n",
            "Epoch 221/300\n",
            "16/16 [==============================] - 3s 191ms/step - loss: 0.5947 - accuracy: 0.8196 - val_loss: 3.6966 - val_accuracy: 0.2889\n",
            "Epoch 222/300\n",
            "16/16 [==============================] - 4s 281ms/step - loss: 0.7550 - accuracy: 0.8549 - val_loss: 2.5312 - val_accuracy: 0.2444\n",
            "Epoch 223/300\n",
            "16/16 [==============================] - 3s 185ms/step - loss: 0.5102 - accuracy: 0.8275 - val_loss: 3.1454 - val_accuracy: 0.2000\n",
            "Epoch 224/300\n",
            "16/16 [==============================] - 3s 191ms/step - loss: 0.4227 - accuracy: 0.8745 - val_loss: 3.8440 - val_accuracy: 0.2444\n",
            "Epoch 225/300\n",
            "16/16 [==============================] - 3s 188ms/step - loss: 0.7464 - accuracy: 0.7608 - val_loss: 2.4250 - val_accuracy: 0.2667\n",
            "Epoch 226/300\n",
            "16/16 [==============================] - 4s 251ms/step - loss: 0.7244 - accuracy: 0.8314 - val_loss: 8.5788 - val_accuracy: 0.2889\n",
            "Epoch 227/300\n",
            "16/16 [==============================] - 3s 191ms/step - loss: 0.4577 - accuracy: 0.8157 - val_loss: 6.3280 - val_accuracy: 0.2667\n",
            "Epoch 228/300\n",
            "16/16 [==============================] - 3s 194ms/step - loss: 0.7530 - accuracy: 0.8235 - val_loss: 2.4867 - val_accuracy: 0.2444\n",
            "Epoch 229/300\n",
            "16/16 [==============================] - 5s 283ms/step - loss: 0.6125 - accuracy: 0.8353 - val_loss: 5.4208 - val_accuracy: 0.2000\n",
            "Epoch 230/300\n",
            "16/16 [==============================] - 3s 190ms/step - loss: 0.4822 - accuracy: 0.8196 - val_loss: 3.8563 - val_accuracy: 0.2667\n",
            "Epoch 231/300\n",
            "16/16 [==============================] - 3s 186ms/step - loss: 0.6637 - accuracy: 0.8000 - val_loss: 4.9908 - val_accuracy: 0.2222\n",
            "Epoch 232/300\n",
            "16/16 [==============================] - 3s 184ms/step - loss: 1.0699 - accuracy: 0.8000 - val_loss: 3.4498 - val_accuracy: 0.2667\n",
            "Epoch 233/300\n",
            "16/16 [==============================] - 4s 259ms/step - loss: 0.7553 - accuracy: 0.7922 - val_loss: 3.0022 - val_accuracy: 0.2444\n",
            "Epoch 234/300\n",
            "16/16 [==============================] - 3s 192ms/step - loss: 0.4786 - accuracy: 0.8549 - val_loss: 4.9492 - val_accuracy: 0.1556\n",
            "Epoch 235/300\n",
            "16/16 [==============================] - 3s 194ms/step - loss: 0.4491 - accuracy: 0.8784 - val_loss: 2.7136 - val_accuracy: 0.2000\n",
            "Epoch 236/300\n",
            "16/16 [==============================] - 3s 189ms/step - loss: 0.6108 - accuracy: 0.8314 - val_loss: 2.4232 - val_accuracy: 0.2667\n",
            "Epoch 237/300\n",
            "16/16 [==============================] - 4s 242ms/step - loss: 0.4874 - accuracy: 0.8471 - val_loss: 3.7746 - val_accuracy: 0.2667\n",
            "Epoch 238/300\n",
            "16/16 [==============================] - 3s 190ms/step - loss: 0.7471 - accuracy: 0.8196 - val_loss: 1.8836 - val_accuracy: 0.3111\n",
            "Epoch 239/300\n",
            "16/16 [==============================] - 3s 192ms/step - loss: 0.4118 - accuracy: 0.8667 - val_loss: 6.3447 - val_accuracy: 0.2889\n",
            "Epoch 240/300\n",
            "16/16 [==============================] - 4s 229ms/step - loss: 0.4544 - accuracy: 0.8824 - val_loss: 6.1581 - val_accuracy: 0.2222\n",
            "Epoch 241/300\n",
            "16/16 [==============================] - 3s 192ms/step - loss: 0.6502 - accuracy: 0.8196 - val_loss: 4.1405 - val_accuracy: 0.2444\n",
            "Epoch 242/300\n",
            "16/16 [==============================] - 3s 192ms/step - loss: 0.9170 - accuracy: 0.8314 - val_loss: 2.0666 - val_accuracy: 0.2000\n",
            "Epoch 243/300\n",
            "16/16 [==============================] - 3s 195ms/step - loss: 0.5464 - accuracy: 0.8431 - val_loss: 1.8096 - val_accuracy: 0.1778\n",
            "Epoch 244/300\n",
            "16/16 [==============================] - 4s 236ms/step - loss: 0.8289 - accuracy: 0.8157 - val_loss: 1.7841 - val_accuracy: 0.2000\n",
            "Epoch 245/300\n",
            "16/16 [==============================] - 3s 191ms/step - loss: 0.7221 - accuracy: 0.8353 - val_loss: 1.3732 - val_accuracy: 0.3778\n",
            "Epoch 246/300\n",
            "16/16 [==============================] - 3s 184ms/step - loss: 1.0343 - accuracy: 0.7059 - val_loss: 1.9246 - val_accuracy: 0.2444\n",
            "Epoch 247/300\n",
            "16/16 [==============================] - 4s 254ms/step - loss: 0.7049 - accuracy: 0.8275 - val_loss: 2.8827 - val_accuracy: 0.2444\n",
            "Epoch 248/300\n",
            "16/16 [==============================] - 3s 187ms/step - loss: 0.5394 - accuracy: 0.8353 - val_loss: 1.9787 - val_accuracy: 0.3111\n",
            "Epoch 249/300\n",
            "16/16 [==============================] - 3s 187ms/step - loss: 0.4533 - accuracy: 0.8353 - val_loss: 5.0351 - val_accuracy: 0.2667\n",
            "Epoch 250/300\n",
            "16/16 [==============================] - 3s 189ms/step - loss: 1.3772 - accuracy: 0.7922 - val_loss: 2.7510 - val_accuracy: 0.3111\n",
            "Epoch 251/300\n",
            "16/16 [==============================] - 4s 259ms/step - loss: 0.8182 - accuracy: 0.8078 - val_loss: 4.5087 - val_accuracy: 0.2444\n",
            "Epoch 252/300\n",
            "16/16 [==============================] - 3s 187ms/step - loss: 0.4357 - accuracy: 0.8667 - val_loss: 7.9663 - val_accuracy: 0.2444\n",
            "Epoch 253/300\n",
            "16/16 [==============================] - 3s 189ms/step - loss: 0.5721 - accuracy: 0.8784 - val_loss: 4.9765 - val_accuracy: 0.2222\n",
            "Epoch 254/300\n",
            "16/16 [==============================] - 3s 190ms/step - loss: 0.5130 - accuracy: 0.8392 - val_loss: 7.2184 - val_accuracy: 0.2000\n",
            "Epoch 255/300\n",
            "16/16 [==============================] - 4s 248ms/step - loss: 0.8376 - accuracy: 0.8157 - val_loss: 2.7141 - val_accuracy: 0.2667\n",
            "Epoch 256/300\n",
            "16/16 [==============================] - 3s 189ms/step - loss: 0.4967 - accuracy: 0.8431 - val_loss: 3.7163 - val_accuracy: 0.2444\n",
            "Epoch 257/300\n",
            "16/16 [==============================] - 3s 184ms/step - loss: 0.7351 - accuracy: 0.8118 - val_loss: 3.0901 - val_accuracy: 0.2444\n",
            "Epoch 258/300\n",
            "16/16 [==============================] - 3s 209ms/step - loss: 1.4239 - accuracy: 0.7961 - val_loss: 6.2713 - val_accuracy: 0.2444\n",
            "Epoch 259/300\n",
            "16/16 [==============================] - 3s 193ms/step - loss: 0.5930 - accuracy: 0.8392 - val_loss: 5.8742 - val_accuracy: 0.2222\n",
            "Epoch 260/300\n",
            "16/16 [==============================] - 3s 195ms/step - loss: 0.7272 - accuracy: 0.8118 - val_loss: 2.4699 - val_accuracy: 0.2222\n",
            "Epoch 261/300\n",
            "16/16 [==============================] - 3s 187ms/step - loss: 0.5278 - accuracy: 0.8039 - val_loss: 2.8625 - val_accuracy: 0.1333\n",
            "Epoch 262/300\n",
            "16/16 [==============================] - 3s 190ms/step - loss: 0.7055 - accuracy: 0.8196 - val_loss: 7.2842 - val_accuracy: 0.2667\n",
            "Epoch 263/300\n",
            "16/16 [==============================] - 3s 188ms/step - loss: 0.9077 - accuracy: 0.8039 - val_loss: 3.6939 - val_accuracy: 0.2444\n",
            "Epoch 264/300\n",
            "16/16 [==============================] - 3s 203ms/step - loss: 0.5406 - accuracy: 0.8275 - val_loss: 10.1312 - val_accuracy: 0.1778\n",
            "Epoch 265/300\n",
            "16/16 [==============================] - 4s 242ms/step - loss: 0.7173 - accuracy: 0.8039 - val_loss: 1.8501 - val_accuracy: 0.2667\n",
            "Epoch 266/300\n",
            "16/16 [==============================] - 3s 186ms/step - loss: 0.6645 - accuracy: 0.7843 - val_loss: 2.1470 - val_accuracy: 0.2889\n",
            "Epoch 267/300\n",
            "16/16 [==============================] - 3s 191ms/step - loss: 0.4855 - accuracy: 0.8784 - val_loss: 1.6298 - val_accuracy: 0.2444\n",
            "Epoch 268/300\n",
            "16/16 [==============================] - 4s 261ms/step - loss: 0.7064 - accuracy: 0.7843 - val_loss: 1.9462 - val_accuracy: 0.2000\n",
            "Epoch 269/300\n",
            "16/16 [==============================] - 3s 194ms/step - loss: 0.4977 - accuracy: 0.8275 - val_loss: 3.8852 - val_accuracy: 0.2667\n",
            "Epoch 270/300\n",
            "16/16 [==============================] - 3s 190ms/step - loss: 1.0970 - accuracy: 0.8824 - val_loss: 3.1583 - val_accuracy: 0.2000\n",
            "Epoch 271/300\n",
            "16/16 [==============================] - 3s 188ms/step - loss: 0.5718 - accuracy: 0.8314 - val_loss: 6.6527 - val_accuracy: 0.2667\n",
            "Epoch 272/300\n",
            "16/16 [==============================] - 4s 252ms/step - loss: 0.7759 - accuracy: 0.8471 - val_loss: 13.3970 - val_accuracy: 0.2889\n",
            "Epoch 273/300\n",
            "16/16 [==============================] - 3s 187ms/step - loss: 0.9474 - accuracy: 0.7804 - val_loss: 2.1462 - val_accuracy: 0.2444\n",
            "Epoch 274/300\n",
            "16/16 [==============================] - 3s 191ms/step - loss: 0.4704 - accuracy: 0.8510 - val_loss: 3.0197 - val_accuracy: 0.2222\n",
            "Epoch 275/300\n",
            "16/16 [==============================] - 3s 189ms/step - loss: 0.5904 - accuracy: 0.8235 - val_loss: 4.6148 - val_accuracy: 0.2222\n",
            "Epoch 276/300\n",
            "16/16 [==============================] - 4s 259ms/step - loss: 0.9900 - accuracy: 0.8275 - val_loss: 3.4210 - val_accuracy: 0.1778\n",
            "Epoch 277/300\n",
            "16/16 [==============================] - 3s 186ms/step - loss: 0.6625 - accuracy: 0.8471 - val_loss: 2.2737 - val_accuracy: 0.2222\n",
            "Epoch 278/300\n",
            "16/16 [==============================] - 3s 197ms/step - loss: 0.7013 - accuracy: 0.7608 - val_loss: 8.0963 - val_accuracy: 0.1556\n",
            "Epoch 279/300\n",
            "16/16 [==============================] - 3s 216ms/step - loss: 0.4027 - accuracy: 0.8745 - val_loss: 5.7730 - val_accuracy: 0.2889\n",
            "Epoch 280/300\n",
            "16/16 [==============================] - 3s 191ms/step - loss: 0.5940 - accuracy: 0.8431 - val_loss: 6.6088 - val_accuracy: 0.2000\n",
            "Epoch 281/300\n",
            "16/16 [==============================] - 3s 196ms/step - loss: 0.9842 - accuracy: 0.8196 - val_loss: 5.7637 - val_accuracy: 0.1778\n",
            "Epoch 282/300\n",
            "16/16 [==============================] - 3s 182ms/step - loss: 0.5741 - accuracy: 0.8353 - val_loss: 3.9263 - val_accuracy: 0.2000\n",
            "Epoch 283/300\n",
            "16/16 [==============================] - 4s 244ms/step - loss: 0.4884 - accuracy: 0.8471 - val_loss: 3.8084 - val_accuracy: 0.2222\n",
            "Epoch 284/300\n",
            "16/16 [==============================] - 3s 193ms/step - loss: 0.5255 - accuracy: 0.8471 - val_loss: 9.1348 - val_accuracy: 0.2000\n",
            "Epoch 285/300\n",
            "16/16 [==============================] - 3s 183ms/step - loss: 0.7144 - accuracy: 0.8275 - val_loss: 6.5869 - val_accuracy: 0.1556\n",
            "Epoch 286/300\n",
            "16/16 [==============================] - 4s 250ms/step - loss: 0.5996 - accuracy: 0.8706 - val_loss: 2.1716 - val_accuracy: 0.2000\n",
            "Epoch 287/300\n",
            "16/16 [==============================] - 3s 184ms/step - loss: 0.8412 - accuracy: 0.8314 - val_loss: 3.7929 - val_accuracy: 0.1778\n",
            "Epoch 288/300\n",
            "16/16 [==============================] - 3s 177ms/step - loss: 0.3532 - accuracy: 0.8588 - val_loss: 3.5491 - val_accuracy: 0.1556\n",
            "Epoch 289/300\n",
            "16/16 [==============================] - 3s 189ms/step - loss: 0.6028 - accuracy: 0.8471 - val_loss: 1.8394 - val_accuracy: 0.2000\n",
            "Epoch 290/300\n",
            "16/16 [==============================] - 4s 254ms/step - loss: 0.7810 - accuracy: 0.8196 - val_loss: 3.1875 - val_accuracy: 0.2444\n",
            "Epoch 291/300\n",
            "16/16 [==============================] - 3s 191ms/step - loss: 0.6451 - accuracy: 0.8235 - val_loss: 3.2937 - val_accuracy: 0.2000\n",
            "Epoch 292/300\n",
            "16/16 [==============================] - 3s 191ms/step - loss: 0.5742 - accuracy: 0.8118 - val_loss: 6.2405 - val_accuracy: 0.2222\n",
            "Epoch 293/300\n",
            "16/16 [==============================] - 3s 203ms/step - loss: 0.7691 - accuracy: 0.8078 - val_loss: 1.8762 - val_accuracy: 0.2000\n",
            "Epoch 294/300\n",
            "16/16 [==============================] - 3s 188ms/step - loss: 0.6717 - accuracy: 0.7922 - val_loss: 3.4058 - val_accuracy: 0.2000\n",
            "Epoch 295/300\n",
            "16/16 [==============================] - 3s 176ms/step - loss: 1.0565 - accuracy: 0.8314 - val_loss: 2.2358 - val_accuracy: 0.2444\n",
            "Epoch 296/300\n",
            "16/16 [==============================] - 3s 190ms/step - loss: 0.2689 - accuracy: 0.9255 - val_loss: 3.0801 - val_accuracy: 0.2444\n",
            "Epoch 297/300\n",
            "16/16 [==============================] - 4s 251ms/step - loss: 1.0658 - accuracy: 0.8471 - val_loss: 4.7468 - val_accuracy: 0.2444\n",
            "Epoch 298/300\n",
            "16/16 [==============================] - 3s 184ms/step - loss: 0.5552 - accuracy: 0.8353 - val_loss: 11.5194 - val_accuracy: 0.2222\n",
            "Epoch 299/300\n",
            "16/16 [==============================] - 3s 192ms/step - loss: 0.6865 - accuracy: 0.8353 - val_loss: 5.9002 - val_accuracy: 0.2000\n",
            "Epoch 300/300\n",
            "16/16 [==============================] - 4s 252ms/step - loss: 0.6373 - accuracy: 0.8549 - val_loss: 3.9197 - val_accuracy: 0.2000\n"
          ]
        }
      ]
    },
    {
      "cell_type": "code",
      "source": [
        "mymodel.evaluate(validation_generator)"
      ],
      "metadata": {
        "colab": {
          "base_uri": "https://localhost:8080/"
        },
        "id": "KqAzoJ5djk14",
        "outputId": "95ad633d-240d-4a47-c66e-668015921fec"
      },
      "execution_count": 86,
      "outputs": [
        {
          "output_type": "stream",
          "name": "stdout",
          "text": [
            "3/3 [==============================] - 0s 114ms/step - loss: 3.9197 - accuracy: 0.2000\n"
          ]
        },
        {
          "output_type": "execute_result",
          "data": {
            "text/plain": [
              "[3.9197137355804443, 0.20000000298023224]"
            ]
          },
          "metadata": {},
          "execution_count": 86
        }
      ]
    },
    {
      "cell_type": "code",
      "source": [
        "plt.plot(history.history['accuracy'])\n",
        "plt.plot(history.history['val_accuracy'])\n",
        "plt.title('Точность модели')\n",
        "plt.ylim(top=1.0)\n",
        "plt.ylim(bottom=0.0) \n",
        "plt.ylabel('Точность')\n",
        "plt.xlabel('Эпохи')\n",
        "plt.legend(['Train', 'Test'], loc='center right')\n",
        "plt.show()"
      ],
      "metadata": {
        "colab": {
          "base_uri": "https://localhost:8080/",
          "height": 295
        },
        "id": "s9Xwg7b9RDqQ",
        "outputId": "846459cc-86f7-46fb-8e7c-0b40d14794b0"
      },
      "execution_count": 93,
      "outputs": [
        {
          "output_type": "display_data",
          "data": {
            "text/plain": [
              "<Figure size 432x288 with 1 Axes>"
            ],
            "image/png": "[encoded data removed]"
          },
          "metadata": {
            "needs_background": "light"
          }
        }
      ]
    },
    {
      "cell_type": "code",
      "source": [
        "print(history.history.keys())"
      ],
      "metadata": {
        "colab": {
          "base_uri": "https://localhost:8080/"
        },
        "id": "XBoTsk3gKFYZ",
        "outputId": "ee84d6d7-8604-4a23-8bbc-51f7baa3d44e"
      },
      "execution_count": 89,
      "outputs": [
        {
          "output_type": "stream",
          "name": "stdout",
          "text": [
            "dict_keys(['loss', 'accuracy', 'val_loss', 'val_accuracy'])\n"
          ]
        }
      ]
    },
    {
      "cell_type": "code",
      "source": [
        "plt.plot(history.history['loss'])\n",
        "plt.plot(history.history['val_loss'])\n",
        "plt.title('Loss модели')\n",
        "plt.ylabel('Loss')\n",
        "plt.xlabel('Эпохи')\n",
        "plt.legend(['Train', 'Test'], loc='upper left')\n",
        "plt.show()"
      ],
      "metadata": {
        "colab": {
          "base_uri": "https://localhost:8080/",
          "height": 295
        },
        "id": "B2ckdtYRJytR",
        "outputId": "715e5cd7-f79b-4e97-dc21-ef40305f43d3"
      },
      "execution_count": 92,
      "outputs": [
        {
          "output_type": "display_data",
          "data": {
            "text/plain": [
              "<Figure size 432x288 with 1 Axes>"
            ],
            "image/png": "[encoded data removed]"
          },
          "metadata": {
            "needs_background": "light"
          }
        }
      ]
    },
    {
      "cell_type": "markdown",
      "source": [
        "### Тестирование модели"
      ],
      "metadata": {
        "id": "BxMTQpmaSA6k"
      }
    },
    {
      "cell_type": "markdown",
      "source": [
        "Рассмотрим, каким образом будет выполнена классификация для изображений, не содержащихся в обучающих выборках"
      ],
      "metadata": {
        "id": "pfaIk0Dur4wt"
      }
    },
    {
      "cell_type": "code",
      "source": [
        "!wget -qq https://github.com/enikolaev/ML_and_NN/raw/main/data/sea_animals_testing.zip\n",
        "!mkdir testing\n",
        "!unzip -q 'sea_animals_testing.zip' -d testing/test\n",
        "!rm sea_animals_testing.zip\n",
        "!ls testing/test"
      ],
      "metadata": {
        "colab": {
          "base_uri": "https://localhost:8080/"
        },
        "id": "tJ-oFhb5ExIh",
        "outputId": "f128dd6c-72d9-4741-c9bf-531511ae7aac"
      },
      "execution_count": 62,
      "outputs": [
        {
          "output_type": "stream",
          "name": "stdout",
          "text": [
            "testing_crab_1.jpg  testing_goldfish_1.jpg   testing_seahorse_1.jpg\n",
            "testing_crab_2.jpg  testing_jallyfish_1.jpg\n"
          ]
        }
      ]
    },
    {
      "cell_type": "code",
      "source": [
        "testing_datagen = ImageDataGenerator(rescale = 1./255,validation_split=0)\n",
        "testing_data = testing_datagen.flow_from_directory('testing',\n",
        "    target_size=pref_size,\n",
        "    class_mode=None,\n",
        "    batch_size=1,\n",
        "    subset=\"training\")"
      ],
      "metadata": {
        "colab": {
          "base_uri": "https://localhost:8080/"
        },
        "id": "VPWUhbHUF9AJ",
        "outputId": "65c68654-dfdf-4bb4-f515-c04043a13710"
      },
      "execution_count": 94,
      "outputs": [
        {
          "output_type": "stream",
          "name": "stdout",
          "text": [
            "Found 5 images belonging to 1 classes.\n"
          ]
        }
      ]
    },
    {
      "cell_type": "code",
      "source": [
        "prediction = mymodel.predict(testing_data)\n",
        "prediction"
      ],
      "metadata": {
        "colab": {
          "base_uri": "https://localhost:8080/"
        },
        "id": "UhsBXJLMGXX-",
        "outputId": "525864da-0ea2-411b-cfab-698a9ca02e98"
      },
      "execution_count": 95,
      "outputs": [
        {
          "output_type": "stream",
          "name": "stdout",
          "text": [
            "5/5 [==============================] - 0s 48ms/step\n"
          ]
        },
        {
          "output_type": "execute_result",
          "data": {
            "text/plain": [
              "array([[3.20159987e-09, 2.69939413e-08, 9.96866286e-01, 5.64936083e-04,\n",
              "        2.56870920e-03],\n",
              "       [1.18238527e-11, 2.50750698e-10, 9.99585927e-01, 1.14349255e-04,\n",
              "        2.99635751e-04],\n",
              "       [1.18568968e-02, 2.97308862e-02, 3.16721529e-01, 5.38508296e-02,\n",
              "        5.87839901e-01],\n",
              "       [9.80709563e-04, 2.40035797e-03, 1.54621881e-02, 4.34685173e-03,\n",
              "        9.76809919e-01],\n",
              "       [7.00707221e-03, 7.55017065e-03, 6.95388258e-01, 7.42068291e-02,\n",
              "        2.15847701e-01]], dtype=float32)"
            ]
          },
          "metadata": {},
          "execution_count": 95
        }
      ]
    },
    {
      "cell_type": "code",
      "source": [
        "for e in prediction:\n",
        "  print( labels[ np.argmax(e)  ])"
      ],
      "metadata": {
        "colab": {
          "base_uri": "https://localhost:8080/"
        },
        "id": "apE9voEON6WA",
        "outputId": "1b94a6f1-e9b5-4e6b-eff0-ceada0925b41"
      },
      "execution_count": 98,
      "outputs": [
        {
          "output_type": "stream",
          "name": "stdout",
          "text": [
            "jellyfish\n",
            "jellyfish\n",
            "squid\n",
            "squid\n",
            "jellyfish\n"
          ]
        }
      ]
    },
    {
      "cell_type": "markdown",
      "source": [
        "## Выводы"
      ],
      "metadata": {
        "id": "z-F96C04OTtK"
      }
    },
    {
      "cell_type": "markdown",
      "source": [
        "Построенный классификатор нуждается в доработке. Внимательно изучите кривые обучения и ответьте на вопрос: что происходит с моделью и как называется подобное состояние модели. Выработайте рекомендации по улучшению модели"
      ],
      "metadata": {
        "id": "mDK-k9ehOXSC"
      }
    },
    {
      "cell_type": "markdown",
      "source": [
        "## Задание"
      ],
      "metadata": {
        "id": "KcEZM0vKsPHo"
      }
    },
    {
      "cell_type": "markdown",
      "source": [
        "Используя представленный Python Notebook обеспечить повышение качества модели сверточной нейронной сети за счет следующих стратегий:\n",
        "\n",
        "* применение стратегий dropout различной агрессивности\n",
        "* применение различных алгоритмов инициализации весов CNN\n",
        "* применение различных стратегий регуляризации\n",
        "* разработка более эффективных архитектур нейронных сетей (добавляйте и удаляйте слои, применяйте различные стратегии свертки)\n",
        "* использование различных функций активации\n",
        "* исследуйте различные алгоритмы обучения"
      ],
      "metadata": {
        "id": "NLMpYaWPsQ54"
      }
    }
  ]
}