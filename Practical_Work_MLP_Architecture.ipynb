{
  "nbformat": 4,
  "nbformat_minor": 0,
  "metadata": {
    "colab": {
      "provenance": [],
      "toc_visible": true,
      "authorship_tag": "ABX9TyNR3egkKOgMmnMCoJibEv5I",
      "include_colab_link": true
    },
    "kernelspec": {
      "name": "python3",
      "display_name": "Python 3"
    },
    "language_info": {
      "name": "python"
    }
  },
  "cells": [
    {
      "cell_type": "markdown",
      "metadata": {
        "id": "view-in-github",
        "colab_type": "text"
      },
      "source": [
        "<a href=\"https://colab.research.google.com/github/enikolaev/ML_and_NN/blob/main/Practical_Work_MLP_Architecture.ipynb\" target=\"_parent\"><img src=\"https://colab.research.google.com/assets/colab-badge.svg\" alt=\"Open In Colab\"/></a>"
      ]
    },
    {
      "cell_type": "markdown",
      "source": [
        "# Архитектура многослойного персептрона"
      ],
      "metadata": {
        "id": "uIzbgiTBQkhl"
      }
    },
    {
      "cell_type": "markdown",
      "source": [
        "## Многослойная нейронная сеть"
      ],
      "metadata": {
        "id": "_GT7sg1YQqMc"
      }
    },
    {
      "cell_type": "markdown",
      "source": [
        "Многослойная нейронная сеть (Multi-Layer Perseptron) достаточно простая нейронная сеть, которая представляет собой последовательность слоев нейронов. В настоящий момент это устаревшие сети - на смену им пришли сверточные нейронные сети (Convolutional Neural Networks, CNN). В данной работе необходимо оценить возможности MLP по классификации изображений морских животных."
      ],
      "metadata": {
        "id": "QAA1GBfk3ws9"
      }
    },
    {
      "cell_type": "markdown",
      "source": [
        "## Подключение библиотек"
      ],
      "metadata": {
        "id": "Dn-BaofJQ3zY"
      }
    },
    {
      "cell_type": "code",
      "execution_count": null,
      "metadata": {
        "id": "uUwVujgzQLVu"
      },
      "outputs": [],
      "source": [
        "import keras \n",
        "from keras.datasets import mnist\n",
        "from keras.utils import np_utils \n",
        "from keras.layers import Dense\n",
        "from keras.layers import Dropout\n",
        "from keras.layers import Flatten\n",
        "from keras.models import Sequential\n",
        "from keras.constraints import max_norm\n",
        "from keras import Input\n",
        "from keras.optimizers import adam_v2\n",
        "import matplotlib.pyplot as plt\n",
        "import numpy as np"
      ]
    },
    {
      "cell_type": "markdown",
      "source": [
        "## Классификация с использованием данных MNIST"
      ],
      "metadata": {
        "id": "Fg9tfFrths9z"
      }
    },
    {
      "cell_type": "markdown",
      "source": [
        "Набор MNIST - это простой набор данных. Можно сказать, что это не изображения, а вектора, которые приходится классифицировать. Реализуем классификатор MLP и оценим его качество"
      ],
      "metadata": {
        "id": "AfuA1YCxiQvr"
      }
    },
    {
      "cell_type": "markdown",
      "source": [
        "### Загрузка набора данных"
      ],
      "metadata": {
        "id": "Sw6EQhKaispJ"
      }
    },
    {
      "cell_type": "code",
      "source": [
        "#загружается датасет mnist, содержащий изображения рукописных цифр от 0 до 9\n",
        "(X_train, y_train), (X_test, y_test) = mnist.load_data() \n",
        "X_train = X_train.reshape(X_train.shape[0], X_train.shape[1]*X_train.shape[2]).astype('float32')\n",
        "X_test = X_test.reshape(X_test.shape[0], X_test.shape[1]*X_test.shape[2]).astype('float32')\n",
        "X_train/=255\n",
        "X_test/=255\n",
        "number_of_classes = 10\n",
        "y_train = np_utils.to_categorical(y_train, number_of_classes)\n",
        "y_test = np_utils.to_categorical(y_test, number_of_classes) "
      ],
      "metadata": {
        "colab": {
          "base_uri": "https://localhost:8080/"
        },
        "id": "Q_fmmR4cipqM",
        "outputId": "322d61a3-b7e7-4b15-aa2a-b7d61975a1a4"
      },
      "execution_count": null,
      "outputs": [
        {
          "output_type": "stream",
          "name": "stdout",
          "text": [
            "Downloading data from https://storage.googleapis.com/tensorflow/tf-keras-datasets/mnist.npz\n",
            "11490434/11490434 [==============================] - 1s 0us/step\n"
          ]
        }
      ]
    },
    {
      "cell_type": "code",
      "source": [
        "print(X_train.shape)"
      ],
      "metadata": {
        "colab": {
          "base_uri": "https://localhost:8080/"
        },
        "id": "j14OMhs-i0gI",
        "outputId": "cb6775e3-2fc3-48d0-8103-3ecd31595a11"
      },
      "execution_count": null,
      "outputs": [
        {
          "output_type": "stream",
          "name": "stdout",
          "text": [
            "(60000, 784)\n"
          ]
        }
      ]
    },
    {
      "cell_type": "markdown",
      "source": [
        "### Задание архитектуры сети"
      ],
      "metadata": {
        "id": "Evo-FpTri4zA"
      }
    },
    {
      "cell_type": "code",
      "source": [
        "model = keras.models.Sequential()\n",
        "model.add(keras.layers.Dense(512, input_dim=(X_train.shape[1]), activation='relu'))\n",
        "model.add(keras.layers.Dropout(0.5))\n",
        "model.add(keras.layers.Dense(number_of_classes, activation='softmax'))\n",
        "model.summary()"
      ],
      "metadata": {
        "colab": {
          "base_uri": "https://localhost:8080/"
        },
        "id": "HlD8zAaejCGJ",
        "outputId": "9f507c7b-aee4-4848-bc4c-e8a2fbf32d9b"
      },
      "execution_count": null,
      "outputs": [
        {
          "output_type": "stream",
          "name": "stdout",
          "text": [
            "Model: \"sequential_8\"\n",
            "_________________________________________________________________\n",
            " Layer (type)                Output Shape              Param #   \n",
            "=================================================================\n",
            " dense_2 (Dense)             (None, 512)               401920    \n",
            "                                                                 \n",
            " dropout_1 (Dropout)         (None, 512)               0         \n",
            "                                                                 \n",
            " dense_3 (Dense)             (None, 10)                5130      \n",
            "                                                                 \n",
            "=================================================================\n",
            "Total params: 407,050\n",
            "Trainable params: 407,050\n",
            "Non-trainable params: 0\n",
            "_________________________________________________________________\n"
          ]
        }
      ]
    },
    {
      "cell_type": "markdown",
      "source": [
        "### Обучение"
      ],
      "metadata": {
        "id": "OLpo1lAPjKMu"
      }
    },
    {
      "cell_type": "code",
      "source": [
        "model.compile(loss='categorical_crossentropy', optimizer='adam', metrics=['accuracy'])  \n",
        "history=model.fit(X_train, y_train, validation_data=(X_test, y_test), epochs=10, batch_size=200)"
      ],
      "metadata": {
        "colab": {
          "base_uri": "https://localhost:8080/"
        },
        "id": "FLcdKN02jMN2",
        "outputId": "39740d26-6118-4c13-fa1f-22337fea3e2c"
      },
      "execution_count": null,
      "outputs": [
        {
          "output_type": "stream",
          "name": "stdout",
          "text": [
            "Epoch 1/10\n",
            "300/300 [==============================] - 8s 24ms/step - loss: 0.3709 - accuracy: 0.8903 - val_loss: 0.1728 - val_accuracy: 0.9495\n",
            "Epoch 2/10\n",
            "300/300 [==============================] - 6s 20ms/step - loss: 0.1742 - accuracy: 0.9491 - val_loss: 0.1178 - val_accuracy: 0.9648\n",
            "Epoch 3/10\n",
            "300/300 [==============================] - 10s 33ms/step - loss: 0.1300 - accuracy: 0.9615 - val_loss: 0.0955 - val_accuracy: 0.9710\n",
            "Epoch 4/10\n",
            "300/300 [==============================] - 5s 16ms/step - loss: 0.1044 - accuracy: 0.9690 - val_loss: 0.0826 - val_accuracy: 0.9743\n",
            "Epoch 5/10\n",
            "300/300 [==============================] - 8s 27ms/step - loss: 0.0888 - accuracy: 0.9732 - val_loss: 0.0754 - val_accuracy: 0.9761\n",
            "Epoch 6/10\n",
            "300/300 [==============================] - 11s 37ms/step - loss: 0.0768 - accuracy: 0.9760 - val_loss: 0.0667 - val_accuracy: 0.9799\n",
            "Epoch 7/10\n",
            "300/300 [==============================] - 7s 25ms/step - loss: 0.0681 - accuracy: 0.9787 - val_loss: 0.0654 - val_accuracy: 0.9800\n",
            "Epoch 8/10\n",
            "300/300 [==============================] - 10s 34ms/step - loss: 0.0616 - accuracy: 0.9805 - val_loss: 0.0616 - val_accuracy: 0.9817\n",
            "Epoch 9/10\n",
            "300/300 [==============================] - 9s 29ms/step - loss: 0.0552 - accuracy: 0.9826 - val_loss: 0.0611 - val_accuracy: 0.9808\n",
            "Epoch 10/10\n",
            "300/300 [==============================] - 6s 20ms/step - loss: 0.0503 - accuracy: 0.9842 - val_loss: 0.0602 - val_accuracy: 0.9807\n"
          ]
        }
      ]
    },
    {
      "cell_type": "markdown",
      "source": [
        "### Оценка кривых обучения"
      ],
      "metadata": {
        "id": "je2UUQFtjRMY"
      }
    },
    {
      "cell_type": "code",
      "source": [
        "plt.plot(history.history['accuracy'])\n",
        "plt.plot(history.history['val_accuracy'])\n",
        "plt.title('Точность модели MLP')\n",
        "plt.ylabel('Точность')\n",
        "plt.xlabel('Эпохи')\n",
        "plt.legend(['train', 'test'], loc='upper left')\n",
        "plt.show()"
      ],
      "metadata": {
        "colab": {
          "base_uri": "https://localhost:8080/",
          "height": 295
        },
        "id": "TChR5eGojVYL",
        "outputId": "2fc36b13-b0de-445c-b677-fc4871dd2006"
      },
      "execution_count": null,
      "outputs": [
        {
          "output_type": "display_data",
          "data": {
            "text/plain": [
              "<Figure size 432x288 with 1 Axes>"
            ],
            "image/png": "[encoded data removed]"
          },
          "metadata": {
            "needs_background": "light"
          }
        }
      ]
    },
    {
      "cell_type": "markdown",
      "source": [
        "В принципе, в результате обучения получена модель с неплохой точностью. Реализуем предсказание (классификацию) изображений, не входящих в обучающие и тестовые наборы"
      ],
      "metadata": {
        "id": "duRCsx3tjv2T"
      }
    },
    {
      "cell_type": "markdown",
      "source": [
        "### Использование модели"
      ],
      "metadata": {
        "id": "oYEJiswVkC2w"
      }
    },
    {
      "cell_type": "code",
      "source": [
        "# скачаем \n",
        "!wget -qq https://raw.githubusercontent.com/enikolaev/ML_and_NN/main/data/mnist_testing.zip\n",
        "!mkdir mnist_testing\n",
        "!unzip -q 'mnist_testing.zip' -d mnist_testing\n",
        "# Посмотрим содержимое скачанного арива и удалим неиспользуемые архивы\n",
        "!ls mnist_testing/\n",
        "!rm mnist_testing.zip"
      ],
      "metadata": {
        "colab": {
          "base_uri": "https://localhost:8080/"
        },
        "id": "uYpo5yGekSpR",
        "outputId": "1070413b-1f05-4ab7-9065-263f5a72d6e2"
      },
      "execution_count": null,
      "outputs": [
        {
          "output_type": "stream",
          "name": "stdout",
          "text": [
            "eight.png  five.png  nine.png  one.png\tseven.png  two.png\n"
          ]
        }
      ]
    },
    {
      "cell_type": "code",
      "source": [
        "!ls mnist_testing/"
      ],
      "metadata": {
        "colab": {
          "base_uri": "https://localhost:8080/"
        },
        "id": "Bp0ijFFBmErS",
        "outputId": "61d63a41-0542-4472-d6c0-86abf6482a6a"
      },
      "execution_count": null,
      "outputs": [
        {
          "output_type": "stream",
          "name": "stdout",
          "text": [
            "eight.png  five.png  nine.png  one.png\tseven.png  two.png\n"
          ]
        }
      ]
    },
    {
      "cell_type": "code",
      "source": [
        "from PIL import Image\n",
        "from IPython.display import Image as D\n",
        "# преобразование входного изображения в формат набора MNIST\n",
        "def get_image(ima_path):\n",
        "  raw_ima = Image.open(ima_path)\n",
        "  img = np.invert(raw_ima.resize((28,28)).convert('L')).ravel()\n",
        "  im2arr = img.reshape(1, 28 * 28).astype('float32')/255\n",
        "  return im2arr\n",
        "one_path = 'mnist_testing/one.png'\n",
        "two_path = 'mnist_testing/two.png'\n",
        "five_path = 'mnist_testing/five.png'\n",
        "# использование обученной модели\n",
        "x=one_path\n",
        "display(D(x, width=100))\n",
        "x_pred = get_image(x)\n",
        "y_pred = model.predict(x_pred)\n",
        "print(y_pred) \n",
        "print(np.argmax(y_pred))\n",
        "\n",
        "x=two_path\n",
        "display(D(x, width=100))\n",
        "x_pred = get_image(x)\n",
        "y_pred = model.predict(x_pred)\n",
        "print(y_pred) \n",
        "print(np.argmax(y_pred))\n",
        "\n",
        "x=five_path\n",
        "display(D(x, width=100))\n",
        "x_pred = get_image(x)\n",
        "y_pred = model.predict(x_pred)\n",
        "print(y_pred) \n",
        "print(np.argmax(y_pred))"
      ],
      "metadata": {
        "colab": {
          "base_uri": "https://localhost:8080/",
          "height": 525
        },
        "id": "uyBpMaUekFa3",
        "outputId": "50561385-90af-4ad4-ed09-8390d232890b"
      },
      "execution_count": null,
      "outputs": [
        {
          "output_type": "display_data",
          "data": {
            "image/png": "[encoded data removed]",
            "text/plain": [
              "<IPython.core.display.Image object>"
            ]
          },
          "metadata": {
            "image/png": {
              "width": 100
            }
          }
        },
        {
          "output_type": "stream",
          "name": "stdout",
          "text": [
            "1/1 [==============================] - 0s 44ms/step\n",
            "[[0.00252002 0.8770554  0.00492493 0.0061615  0.05159836 0.0088784\n",
            "  0.01586022 0.01611563 0.00745371 0.00943176]]\n",
            "1\n"
          ]
        },
        {
          "output_type": "display_data",
          "data": {
            "image/png": "[encoded data removed]",
            "text/plain": [
              "<IPython.core.display.Image object>"
            ]
          },
          "metadata": {
            "image/png": {
              "width": 100
            }
          }
        },
        {
          "output_type": "stream",
          "name": "stdout",
          "text": [
            "1/1 [==============================] - 0s 72ms/step\n",
            "[[9.1572374e-06 9.4924355e-03 9.3042517e-01 7.0113353e-03 8.0341626e-05\n",
            "  3.1899612e-02 1.2934574e-02 1.1226205e-03 7.0244265e-03 2.3379049e-07]]\n",
            "2\n"
          ]
        },
        {
          "output_type": "display_data",
          "data": {
            "image/png": "[encoded data removed]",
            "text/plain": [
              "<IPython.core.display.Image object>"
            ]
          },
          "metadata": {
            "image/png": {
              "width": 100
            }
          }
        },
        {
          "output_type": "stream",
          "name": "stdout",
          "text": [
            "1/1 [==============================] - 0s 139ms/step\n",
            "[[4.5965647e-04 1.0515552e-03 1.6645066e-04 2.3210524e-03 4.3620137e-05\n",
            "  9.4817042e-01 2.4407724e-04 2.0270776e-03 1.7844220e-03 4.3731604e-02]]\n",
            "5\n"
          ]
        }
      ]
    },
    {
      "cell_type": "markdown",
      "source": [
        "### Выводы"
      ],
      "metadata": {
        "id": "TzrBkPlrmqGT"
      }
    },
    {
      "cell_type": "markdown",
      "source": [
        "Даже простенький, практически однослойный, персептрон способен выполнять классификацию визуальных изображений. НО! Успех такой модели кроится в простоте используемого набора данных"
      ],
      "metadata": {
        "id": "8ZdQ8Hx8mu9E"
      }
    },
    {
      "cell_type": "markdown",
      "source": [
        "Реализуем классификатор такой же архитектуры, но с использованием сложного набора данных"
      ],
      "metadata": {
        "id": "a8iiRiHBnHTY"
      }
    },
    {
      "cell_type": "markdown",
      "source": [
        "## Классификация с использованием сложного набора данных "
      ],
      "metadata": {
        "id": "NYZ599xuh5dk"
      }
    },
    {
      "cell_type": "markdown",
      "source": [
        "Данный набор данных представляет собой изображения морских животных (5 категорий по 60 в каждой). Вам предлагается оценить качество модели MLP применительно к сложным графическим наборам данных"
      ],
      "metadata": {
        "id": "uDzEhva5h_kG"
      }
    },
    {
      "cell_type": "markdown",
      "source": [
        "### Загрузка данных"
      ],
      "metadata": {
        "id": "ylDva-oS4g2W"
      }
    },
    {
      "cell_type": "markdown",
      "source": [
        "Получим список архивов с изображениями, затем выполним загрузку архивов с исзображениями в соответствии со списком"
      ],
      "metadata": {
        "id": "aKb73hocBXBU"
      }
    },
    {
      "cell_type": "code",
      "source": [
        "!wget -qq https://raw.githubusercontent.com/enikolaev/ML_and_NN/main/data/data_sea_animals.txt\n",
        "!wget -qq -i data_sea_animals.txt"
      ],
      "metadata": {
        "id": "DwoREBT_BcO5"
      },
      "execution_count": null,
      "outputs": []
    },
    {
      "cell_type": "markdown",
      "source": [
        "Выполним распаковку архивов в каталог `training`"
      ],
      "metadata": {
        "id": "CbLEn3-YCpvH"
      }
    },
    {
      "cell_type": "code",
      "source": [
        "!mkdir training\n",
        "!unzip -q '*.zip' -d training\n",
        "# Посмотрим какие подкаталоги \n",
        "!ls training/"
      ],
      "metadata": {
        "colab": {
          "base_uri": "https://localhost:8080/"
        },
        "id": "y-PfT2zOEdh_",
        "outputId": "8d24f05c-b1d1-4cce-a376-22a308960e1b"
      },
      "execution_count": null,
      "outputs": [
        {
          "output_type": "stream",
          "name": "stdout",
          "text": [
            "mkdir: cannot create directory ‘training’: File exists\n",
            "\n",
            "5 archives were successfully processed.\n",
            "crab  goldfish\tjellyfish  seahorse  squid\n"
          ]
        }
      ]
    },
    {
      "cell_type": "markdown",
      "source": [
        "Изучим содержимое каталога"
      ],
      "metadata": {
        "id": "vD2KSK_3KgcZ"
      }
    },
    {
      "cell_type": "code",
      "source": [
        "!ls training/crab/"
      ],
      "metadata": {
        "colab": {
          "base_uri": "https://localhost:8080/"
        },
        "id": "p7KoQK0nKkbQ",
        "outputId": "9f04a715-b69a-41a2-e639-7fad8b5e2d86"
      },
      "execution_count": null,
      "outputs": [
        {
          "output_type": "stream",
          "name": "stdout",
          "text": [
            "01c3fc5278.jpg\t1de5e32b3e.jpg\t3d7220b4ea.jpg\t57f3c20f3e.jpg\t89b1cd7401.jpg\n",
            "03a4208397.jpg\t1e2b79379b.jpg\t3dcd66a4a7.jpg\t58a0e73fa1.jpg\t8a33efacf4.jpg\n",
            "044edccd83.jpg\t1eb3673642.jpg\t3eda69a7a1.jpg\t5f04912e9e.jpg\t8a8c5babf9.jpg\n",
            "0615c19b25.jpg\t1f60096138.jpg\t3efb4f3151.jpg\t61b7dcd0ae.jpg\t8b5424d2ad.jpg\n",
            "0a37acd141.jpg\t1f6d2f18af.jpg\t48e8eb8c1e.jpg\t6bba319305.jpg\t8b62ebe6e2.jpg\n",
            "0a3d16566f.jpg\t21cfefa411.jpg\t497cc8adee.jpg\t6cddf4fea1.jpg\t8ca7742d95.jpg\n",
            "0b8367a031.jpg\t244ef898cd.jpg\t4d02dfebb4.jpg\t70a7d96611.jpg\t8f2b6ddbf7.jpg\n",
            "0c8b345dc6.jpg\t28a44015b4.jpg\t504a7a0346.jpg\t7aaa3f657b.jpg\t8fd3cea7b7.jpg\n",
            "103bfb5679.jpg\t2a017fbee0.jpg\t51cc8c3bc9.jpg\t7d712e2025.jpg\t97fe281ca4.jpg\n",
            "11c7c6b51e.jpg\t2ba8cb98d6.jpg\t55b247f3fa.jpg\t7f65b9bf02.jpg\t99bafd36a8.jpg\n",
            "15a262b4eb.jpg\t3bdf0986c4.jpg\t56a9e1e52c.jpg\t82d357358c.jpg\t9b74fbf107.jpg\n",
            "15b1fc2157.jpg\t3c63c57a72.jpg\t56ddab436a.jpg\t84c7171790.jpg\t9ced152535.jpg\n"
          ]
        }
      ]
    },
    {
      "cell_type": "markdown",
      "source": [
        "Удалим неиспользуемые файлы архивов"
      ],
      "metadata": {
        "id": "jnkSkfoYFLNf"
      }
    },
    {
      "cell_type": "code",
      "source": [
        "!rm *.zip"
      ],
      "metadata": {
        "id": "u9SQAmQx_pIO"
      },
      "execution_count": null,
      "outputs": []
    },
    {
      "cell_type": "code",
      "source": [
        "# !rm /training/crab/*\n",
        "# !rm /training/goldfish/*"
      ],
      "metadata": {
        "id": "5Tn5yg5-JFJr"
      },
      "execution_count": null,
      "outputs": []
    },
    {
      "cell_type": "markdown",
      "source": [
        "### Подготовка обучающей выборки на основе загруженных файлов"
      ],
      "metadata": {
        "id": "b8llLY5nGRta"
      }
    },
    {
      "cell_type": "markdown",
      "source": [
        "Для подготовки обучающего набора будем использовать класс `ImageDataGenerator`, которому зададим следующие параметры:\n",
        "\n",
        "`batch_size` - размер батча\n",
        "\n",
        "`data_dir` - каталог с обучающей выборкой\n",
        "\n",
        "`validation_percent` - роцент выборки, который уйдет на валидацию\n"
      ],
      "metadata": {
        "id": "16qwT7cbL_Se"
      }
    },
    {
      "cell_type": "code",
      "source": [
        "from keras.preprocessing.image import ImageDataGenerator\n",
        "# размер батча\n",
        "batch_size=32\n",
        "# каталог с обучающей выборкой\n",
        "data_dir = \"training\"\n",
        "# Процент выборки, который уйдет на валидацию\n",
        "validation_percent = 0.1\n",
        "# размер для масштабирования\n",
        "pref_size = (64,64)\n",
        "\n",
        "train_datagen = ImageDataGenerator(rescale = 1./255,\n",
        "        validation_split=validation_percent,\n",
        "        # featurewise_center=True,\n",
        "        samplewise_center=True,\n",
        "        # featurewise_std_normalization=True,\n",
        "        samplewise_std_normalization=True,\n",
        "        rotation_range=45,\n",
        "        width_shift_range=0.25,\n",
        "        height_shift_range=0.25,\n",
        "        shear_range=0.25,\n",
        "        zoom_range=0.25,\n",
        "        horizontal_flip=True,\n",
        "        fill_mode='nearest')\n",
        "\n",
        "validation_datagen = ImageDataGenerator(rescale = 1./255, \n",
        "        validation_split=validation_percent)\n",
        "\n",
        "print('Статистика по обучающей выборке')\n",
        "train_generator = train_datagen.flow_from_directory(data_dir,\n",
        "    target_size=pref_size,\n",
        "    class_mode='categorical',\n",
        "    batch_size=batch_size,\n",
        "    subset = \"training\")\n",
        "print('**' * 50)\n",
        "print('Статистика по валидационной выборке')\n",
        "validation_generator = validation_datagen.flow_from_directory(data_dir,\n",
        "    target_size=pref_size,\n",
        "    class_mode='categorical',\n",
        "    batch_size=batch_size,\n",
        "    subset = \"validation\")\n",
        "\n",
        "labels = {v: k for k, v in train_generator.class_indices.items()}\n",
        "print(labels)\n",
        "number_of_classes = len(labels)"
      ],
      "metadata": {
        "colab": {
          "base_uri": "https://localhost:8080/"
        },
        "id": "m9oBt5hyKtk7",
        "outputId": "b6699077-3d43-4000-8c8b-418e8f5d6c84"
      },
      "execution_count": null,
      "outputs": [
        {
          "output_type": "stream",
          "name": "stdout",
          "text": [
            "Статистика по обучающей выборке\n",
            "Found 270 images belonging to 5 classes.\n",
            "****************************************************************************************************\n",
            "Статистика по валидационной выборке\n",
            "Found 30 images belonging to 5 classes.\n",
            "{0: 'crab', 1: 'goldfish', 2: 'jellyfish', 3: 'seahorse', 4: 'squid'}\n"
          ]
        }
      ]
    },
    {
      "cell_type": "markdown",
      "source": [
        "### Формирование структуры сети"
      ],
      "metadata": {
        "id": "DqJr0LnyQ8qj"
      }
    },
    {
      "cell_type": "markdown",
      "source": [
        "Немного поменяем структуру модели: увеличим количество слоев, изменм алгоритм инициализации весов, введем регуляризацию"
      ],
      "metadata": {
        "id": "y622iwV6oZU1"
      }
    },
    {
      "cell_type": "code",
      "source": [
        "max_norm_value = 1.0\n",
        "dropout_rate=0.3\n",
        "model = keras.models.Sequential(name='layers')\n",
        "model.add(Input(shape=(pref_size[0], pref_size[1], 3)))\n",
        "model.add(Flatten(name='flatten1'))\n",
        "model.add(Dense(128, name='dense1', activation='relu', kernel_constraint=max_norm(max_norm_value), kernel_initializer='he_uniform'))\n",
        "model.add(Dropout(dropout_rate, name='drop1'))\n",
        "model.add(Dense(128, name='dense2', activation='relu', kernel_constraint=max_norm(max_norm_value), kernel_initializer='he_uniform'))\n",
        "model.add(Dropout(dropout_rate, name='drop2'))\n",
        "model.add(Dense(128, name='dense3', activation='relu', kernel_constraint=max_norm(max_norm_value), kernel_initializer='he_uniform'))\n",
        "model.add(Dropout(dropout_rate, name='drop3'))\n",
        "model.add(Dense(32, name='dense4', activation='relu', kernel_constraint=max_norm(max_norm_value), kernel_initializer='he_uniform'))\n",
        "model.add(Dropout(dropout_rate, name='drop4'))\n",
        "model.add(Dense(number_of_classes, activation='softmax', name='output'))\n",
        "model.summary()"
      ],
      "metadata": {
        "id": "T0kuseBiQ9f6",
        "colab": {
          "base_uri": "https://localhost:8080/"
        },
        "outputId": "cdb2d2f5-cb8a-4d2b-f840-30e8baaeb053"
      },
      "execution_count": null,
      "outputs": [
        {
          "output_type": "stream",
          "name": "stdout",
          "text": [
            "Model: \"layers\"\n",
            "_________________________________________________________________\n",
            " Layer (type)                Output Shape              Param #   \n",
            "=================================================================\n",
            " flatten1 (Flatten)          (None, 12288)             0         \n",
            "                                                                 \n",
            " dense1 (Dense)              (None, 128)               1572992   \n",
            "                                                                 \n",
            " drop1 (Dropout)             (None, 128)               0         \n",
            "                                                                 \n",
            " dense2 (Dense)              (None, 128)               16512     \n",
            "                                                                 \n",
            " drop2 (Dropout)             (None, 128)               0         \n",
            "                                                                 \n",
            " dense3 (Dense)              (None, 128)               16512     \n",
            "                                                                 \n",
            " drop3 (Dropout)             (None, 128)               0         \n",
            "                                                                 \n",
            " dense4 (Dense)              (None, 32)                4128      \n",
            "                                                                 \n",
            " drop4 (Dropout)             (None, 32)                0         \n",
            "                                                                 \n",
            " output (Dense)              (None, 5)                 165       \n",
            "                                                                 \n",
            "=================================================================\n",
            "Total params: 1,610,309\n",
            "Trainable params: 1,610,309\n",
            "Non-trainable params: 0\n",
            "_________________________________________________________________\n"
          ]
        }
      ]
    },
    {
      "cell_type": "code",
      "source": [
        "model.compile(optimizer=keras.optimizers.Adam(), loss=keras.losses.CategoricalCrossentropy(from_logits=False), metrics=['accuracy'])"
      ],
      "metadata": {
        "id": "bPgC-KSTNUha"
      },
      "execution_count": null,
      "outputs": []
    },
    {
      "cell_type": "markdown",
      "source": [
        "Возможно использовать различные оптимизаторы kers:\n",
        "\n",
        "**SGD** − Stochastic gradient descent optimizer.\n",
        "`keras.optimizers.SGD(learning_rate = 0.01, momentum = 0.0, nesterov = False)`\n",
        "\n",
        "**RMSprop** − RMSProp optimizer.\n",
        "`keras.optimizers.RMSprop(learning_rate = 0.001, rho = 0.9)`\n",
        "\n",
        "**Adagrad** − Adagrad optimizer.\n",
        "`keras.optimizers.Adagrad(learning_rate = 0.01)`\n",
        "\n",
        "**Adadelta** − Adadelta optimizer.\n",
        "`keras.optimizers.Adadelta(learning_rate = 1.0, rho = 0.95)`\n",
        "\n",
        "**Adam** − Adam optimizer.\n",
        "```\n",
        "keras.optimizers.Adam(\n",
        "   learning_rate = 0.001, beta_1 = 0.9, beta_2 = 0.999, amsgrad = False\n",
        ")\n",
        "```\n",
        "\n",
        "**Adamax** − Adamax optimizer from Adam.\n",
        "`keras.optimizers.Adamax(learning_rate = 0.002, beta_1 = 0.9, beta_2 = 0.999)`\n",
        "\n",
        "**Nadam** − Nesterov Adam optimizer.\n",
        "`keras.optimizers.Nadam(learning_rate = 0.002, beta_1 = 0.9, beta_2 = 0.999)`"
      ],
      "metadata": {
        "id": "aP8XyGeGSrbu"
      }
    },
    {
      "cell_type": "code",
      "source": [
        "model.evaluate(validation_generator)"
      ],
      "metadata": {
        "colab": {
          "base_uri": "https://localhost:8080/"
        },
        "id": "52OUNuxhWHWY",
        "outputId": "eaddc7fa-8bb5-4342-b636-a84dbc58408e"
      },
      "execution_count": null,
      "outputs": [
        {
          "output_type": "stream",
          "name": "stdout",
          "text": [
            "1/1 [==============================] - 1s 921ms/step - loss: 1.9016 - accuracy: 0.0333\n"
          ]
        },
        {
          "output_type": "execute_result",
          "data": {
            "text/plain": [
              "[1.90155827999115, 0.03333333507180214]"
            ]
          },
          "metadata": {},
          "execution_count": 15
        }
      ]
    },
    {
      "cell_type": "code",
      "source": [
        "history = model.fit(train_generator, validation_data=validation_generator, epochs=50)\n"
      ],
      "metadata": {
        "colab": {
          "base_uri": "https://localhost:8080/"
        },
        "id": "gsxwdxbGfUno",
        "outputId": "fb43a739-a738-4b81-fa7e-9311b6c32f58"
      },
      "execution_count": null,
      "outputs": [
        {
          "output_type": "stream",
          "name": "stdout",
          "text": [
            "Epoch 1/50\n",
            "9/9 [==============================] - 6s 677ms/step - loss: 1.5753 - accuracy: 0.2889 - val_loss: 1.5498 - val_accuracy: 0.5000\n",
            "Epoch 2/50\n",
            "9/9 [==============================] - 4s 441ms/step - loss: 1.5693 - accuracy: 0.2889 - val_loss: 1.5618 - val_accuracy: 0.5000\n",
            "Epoch 3/50\n",
            "9/9 [==============================] - 4s 431ms/step - loss: 1.5731 - accuracy: 0.2926 - val_loss: 1.5681 - val_accuracy: 0.4000\n",
            "Epoch 4/50\n",
            "9/9 [==============================] - 4s 401ms/step - loss: 1.6131 - accuracy: 0.2852 - val_loss: 1.5584 - val_accuracy: 0.3667\n",
            "Epoch 5/50\n",
            "9/9 [==============================] - 4s 414ms/step - loss: 1.5587 - accuracy: 0.2778 - val_loss: 1.5752 - val_accuracy: 0.3000\n",
            "Epoch 6/50\n",
            "9/9 [==============================] - 5s 519ms/step - loss: 1.5989 - accuracy: 0.2667 - val_loss: 1.5694 - val_accuracy: 0.3333\n",
            "Epoch 7/50\n",
            "9/9 [==============================] - 4s 406ms/step - loss: 1.5359 - accuracy: 0.3222 - val_loss: 1.5552 - val_accuracy: 0.3667\n",
            "Epoch 8/50\n",
            "9/9 [==============================] - 4s 381ms/step - loss: 1.5310 - accuracy: 0.3704 - val_loss: 1.5425 - val_accuracy: 0.4333\n",
            "Epoch 9/50\n",
            "9/9 [==============================] - 5s 558ms/step - loss: 1.5505 - accuracy: 0.2852 - val_loss: 1.5414 - val_accuracy: 0.4000\n",
            "Epoch 10/50\n",
            "9/9 [==============================] - 4s 404ms/step - loss: 1.5217 - accuracy: 0.2963 - val_loss: 1.5210 - val_accuracy: 0.4000\n",
            "Epoch 11/50\n",
            "9/9 [==============================] - 4s 401ms/step - loss: 1.5230 - accuracy: 0.3630 - val_loss: 1.5218 - val_accuracy: 0.3333\n",
            "Epoch 12/50\n",
            "9/9 [==============================] - 4s 479ms/step - loss: 1.5291 - accuracy: 0.3037 - val_loss: 1.5267 - val_accuracy: 0.3000\n",
            "Epoch 13/50\n",
            "9/9 [==============================] - 4s 384ms/step - loss: 1.5422 - accuracy: 0.3148 - val_loss: 1.5324 - val_accuracy: 0.4333\n",
            "Epoch 14/50\n",
            "9/9 [==============================] - 5s 552ms/step - loss: 1.5144 - accuracy: 0.2963 - val_loss: 1.5324 - val_accuracy: 0.4000\n",
            "Epoch 15/50\n",
            "9/9 [==============================] - 4s 424ms/step - loss: 1.5336 - accuracy: 0.3259 - val_loss: 1.5415 - val_accuracy: 0.4333\n",
            "Epoch 16/50\n",
            "9/9 [==============================] - 4s 404ms/step - loss: 1.4393 - accuracy: 0.3630 - val_loss: 1.5378 - val_accuracy: 0.3333\n",
            "Epoch 17/50\n",
            "9/9 [==============================] - 5s 563ms/step - loss: 1.5117 - accuracy: 0.3444 - val_loss: 1.5193 - val_accuracy: 0.4000\n",
            "Epoch 18/50\n",
            "9/9 [==============================] - 4s 388ms/step - loss: 1.5485 - accuracy: 0.3185 - val_loss: 1.5310 - val_accuracy: 0.4333\n",
            "Epoch 19/50\n",
            "9/9 [==============================] - 4s 411ms/step - loss: 1.5358 - accuracy: 0.3037 - val_loss: 1.5507 - val_accuracy: 0.4000\n",
            "Epoch 20/50\n",
            "9/9 [==============================] - 5s 535ms/step - loss: 1.5010 - accuracy: 0.3148 - val_loss: 1.5467 - val_accuracy: 0.3333\n",
            "Epoch 21/50\n",
            "9/9 [==============================] - 4s 429ms/step - loss: 1.5225 - accuracy: 0.3444 - val_loss: 1.5282 - val_accuracy: 0.2333\n",
            "Epoch 22/50\n",
            "9/9 [==============================] - 4s 468ms/step - loss: 1.4608 - accuracy: 0.3852 - val_loss: 1.5247 - val_accuracy: 0.3000\n",
            "Epoch 23/50\n",
            "9/9 [==============================] - 4s 452ms/step - loss: 1.4861 - accuracy: 0.3444 - val_loss: 1.5260 - val_accuracy: 0.2333\n",
            "Epoch 24/50\n",
            "9/9 [==============================] - 4s 418ms/step - loss: 1.4807 - accuracy: 0.3704 - val_loss: 1.5314 - val_accuracy: 0.3000\n",
            "Epoch 25/50\n",
            "9/9 [==============================] - 4s 412ms/step - loss: 1.5025 - accuracy: 0.3407 - val_loss: 1.5262 - val_accuracy: 0.4000\n",
            "Epoch 26/50\n",
            "9/9 [==============================] - 4s 374ms/step - loss: 1.4689 - accuracy: 0.3444 - val_loss: 1.5205 - val_accuracy: 0.4000\n",
            "Epoch 27/50\n",
            "9/9 [==============================] - 4s 402ms/step - loss: 1.4878 - accuracy: 0.3741 - val_loss: 1.5242 - val_accuracy: 0.4000\n",
            "Epoch 28/50\n",
            "9/9 [==============================] - 5s 562ms/step - loss: 1.4556 - accuracy: 0.3741 - val_loss: 1.5310 - val_accuracy: 0.3667\n",
            "Epoch 29/50\n",
            "9/9 [==============================] - 4s 397ms/step - loss: 1.4466 - accuracy: 0.3481 - val_loss: 1.5293 - val_accuracy: 0.4333\n",
            "Epoch 30/50\n",
            "9/9 [==============================] - 4s 412ms/step - loss: 1.4914 - accuracy: 0.3556 - val_loss: 1.5229 - val_accuracy: 0.4000\n",
            "Epoch 31/50\n",
            "9/9 [==============================] - 5s 521ms/step - loss: 1.4888 - accuracy: 0.3704 - val_loss: 1.5329 - val_accuracy: 0.3667\n",
            "Epoch 32/50\n",
            "9/9 [==============================] - 4s 403ms/step - loss: 1.4472 - accuracy: 0.3926 - val_loss: 1.5265 - val_accuracy: 0.3667\n",
            "Epoch 33/50\n",
            "9/9 [==============================] - 4s 405ms/step - loss: 1.4955 - accuracy: 0.3926 - val_loss: 1.5232 - val_accuracy: 0.3667\n",
            "Epoch 34/50\n",
            "9/9 [==============================] - 4s 444ms/step - loss: 1.4996 - accuracy: 0.3593 - val_loss: 1.5322 - val_accuracy: 0.3667\n",
            "Epoch 35/50\n",
            "9/9 [==============================] - 4s 411ms/step - loss: 1.5207 - accuracy: 0.3333 - val_loss: 1.5333 - val_accuracy: 0.4000\n",
            "Epoch 36/50\n",
            "9/9 [==============================] - 5s 576ms/step - loss: 1.4337 - accuracy: 0.4037 - val_loss: 1.5235 - val_accuracy: 0.5000\n",
            "Epoch 37/50\n",
            "9/9 [==============================] - 4s 364ms/step - loss: 1.4718 - accuracy: 0.3185 - val_loss: 1.5250 - val_accuracy: 0.4000\n",
            "Epoch 38/50\n",
            "9/9 [==============================] - 4s 407ms/step - loss: 1.5196 - accuracy: 0.3037 - val_loss: 1.5292 - val_accuracy: 0.4333\n",
            "Epoch 39/50\n",
            "9/9 [==============================] - 5s 500ms/step - loss: 1.4758 - accuracy: 0.3519 - val_loss: 1.5226 - val_accuracy: 0.4333\n",
            "Epoch 40/50\n",
            "9/9 [==============================] - 4s 428ms/step - loss: 1.4447 - accuracy: 0.3778 - val_loss: 1.5289 - val_accuracy: 0.4000\n",
            "Epoch 41/50\n",
            "9/9 [==============================] - 5s 545ms/step - loss: 1.4706 - accuracy: 0.3148 - val_loss: 1.5289 - val_accuracy: 0.3667\n",
            "Epoch 42/50\n",
            "9/9 [==============================] - 4s 420ms/step - loss: 1.4564 - accuracy: 0.3481 - val_loss: 1.5247 - val_accuracy: 0.3667\n",
            "Epoch 43/50\n",
            "9/9 [==============================] - 4s 374ms/step - loss: 1.4543 - accuracy: 0.3407 - val_loss: 1.5240 - val_accuracy: 0.4000\n",
            "Epoch 44/50\n",
            "9/9 [==============================] - 5s 541ms/step - loss: 1.4747 - accuracy: 0.3593 - val_loss: 1.5255 - val_accuracy: 0.3667\n",
            "Epoch 45/50\n",
            "9/9 [==============================] - 4s 395ms/step - loss: 1.4553 - accuracy: 0.3296 - val_loss: 1.5243 - val_accuracy: 0.4000\n",
            "Epoch 46/50\n",
            "9/9 [==============================] - 4s 413ms/step - loss: 1.4170 - accuracy: 0.3556 - val_loss: 1.5240 - val_accuracy: 0.4000\n",
            "Epoch 47/50\n",
            "9/9 [==============================] - 7s 811ms/step - loss: 1.4254 - accuracy: 0.4074 - val_loss: 1.5165 - val_accuracy: 0.3667\n",
            "Epoch 48/50\n",
            "9/9 [==============================] - 4s 429ms/step - loss: 1.4413 - accuracy: 0.3704 - val_loss: 1.5121 - val_accuracy: 0.4667\n",
            "Epoch 49/50\n",
            "9/9 [==============================] - 5s 538ms/step - loss: 1.4419 - accuracy: 0.3667 - val_loss: 1.5152 - val_accuracy: 0.4000\n",
            "Epoch 50/50\n",
            "9/9 [==============================] - 4s 409ms/step - loss: 1.4001 - accuracy: 0.3778 - val_loss: 1.5114 - val_accuracy: 0.3000\n"
          ]
        }
      ]
    },
    {
      "cell_type": "code",
      "source": [
        "model.evaluate(validation_generator)"
      ],
      "metadata": {
        "colab": {
          "base_uri": "https://localhost:8080/"
        },
        "id": "KqAzoJ5djk14",
        "outputId": "dca33e6c-39f4-4f6c-fe4d-eff0a367f8a1"
      },
      "execution_count": null,
      "outputs": [
        {
          "output_type": "stream",
          "name": "stdout",
          "text": [
            "1/1 [==============================] - 0s 319ms/step - loss: 1.5114 - accuracy: 0.3000\n"
          ]
        },
        {
          "output_type": "execute_result",
          "data": {
            "text/plain": [
              "[1.5113688707351685, 0.30000001192092896]"
            ]
          },
          "metadata": {},
          "execution_count": 20
        }
      ]
    },
    {
      "cell_type": "code",
      "source": [
        "plt.plot(history.history['accuracy'])\n",
        "plt.plot(history.history['val_accuracy'])\n",
        "plt.title('Точность модели')\n",
        "plt.ylim(top=1.0)\n",
        "plt.ylim(bottom=0.0) \n",
        "plt.ylabel('Точность')\n",
        "plt.xlabel('Эпохи')\n",
        "plt.legend(['Train', 'Test'], loc='lower right')\n",
        "plt.show()"
      ],
      "metadata": {
        "colab": {
          "base_uri": "https://localhost:8080/",
          "height": 295
        },
        "id": "s9Xwg7b9RDqQ",
        "outputId": "be5c80b5-a6dc-4be7-adcc-55de9b14f1ab"
      },
      "execution_count": null,
      "outputs": [
        {
          "output_type": "display_data",
          "data": {
            "text/plain": [
              "<Figure size 432x288 with 1 Axes>"
            ],
            "image/png": "[encoded data removed]"
          },
          "metadata": {
            "needs_background": "light"
          }
        }
      ]
    },
    {
      "cell_type": "markdown",
      "source": [
        "### Выводы"
      ],
      "metadata": {
        "id": "BxMTQpmaSA6k"
      }
    },
    {
      "cell_type": "markdown",
      "source": [
        "Полученная точность в 30% процентов говорит о том, что модель не обучилась совсем. То есть применение MLP к сложному набору данных (без использования операций сверток) не позволило получить качественный классификатор"
      ],
      "metadata": {
        "id": "pfaIk0Dur4wt"
      }
    },
    {
      "cell_type": "markdown",
      "source": [
        "## Задание"
      ],
      "metadata": {
        "id": "KcEZM0vKsPHo"
      }
    },
    {
      "cell_type": "markdown",
      "source": [
        "Используя представленный Python Notebook обеспечить повышение качество модели за счет следующих стратегий:\n",
        "\n",
        "* применение стратегий dropout различной агрессивности\n",
        "* применение различных алгоритмов инициализации весов MLP\n",
        "* применение различных стратегий регуляризации\n",
        "* разработка более эффективных архитектур нейронных сетей (добавляйте и удаляйте слои, не не разрешается использовать сверточные слои)\n",
        "* использование различных функций активации"
      ],
      "metadata": {
        "id": "NLMpYaWPsQ54"
      }
    }
  ]
}